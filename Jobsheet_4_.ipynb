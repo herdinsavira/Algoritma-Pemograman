{
  "nbformat": 4,
  "nbformat_minor": 0,
  "metadata": {
    "colab": {
      "provenance": [],
      "authorship_tag": "ABX9TyPCjZlUW8Y18thPhebgtxe+",
      "include_colab_link": true
    },
    "kernelspec": {
      "name": "python3",
      "display_name": "Python 3"
    },
    "language_info": {
      "name": "python"
    }
  },
  "cells": [
    {
      "cell_type": "markdown",
      "metadata": {
        "id": "view-in-github",
        "colab_type": "text"
      },
      "source": [
        "<a href=\"https://colab.research.google.com/github/herdinsavira/Algoritma-Pemograman/blob/main/Jobsheet_4_.ipynb\" target=\"_parent\"><img src=\"https://colab.research.google.com/assets/colab-badge.svg\" alt=\"Open In Colab\"/></a>"
      ]
    },
    {
      "cell_type": "markdown",
      "source": [
        "\n",
        "\n",
        "*   Praktikum 01 - Perulangan For dengan Range\n",
        "\n"
      ],
      "metadata": {
        "id": "qbxZH9H5k53H"
      }
    },
    {
      "cell_type": "code",
      "source": [
        "for i in range(1, 6):\n",
        "    print(i)"
      ],
      "metadata": {
        "id": "jnppe9yPmJrw",
        "colab": {
          "base_uri": "https://localhost:8080/"
        },
        "outputId": "401fa909-0584-4300-a9ff-5442fd21dc46"
      },
      "execution_count": 4,
      "outputs": [
        {
          "output_type": "stream",
          "name": "stdout",
          "text": [
            "1\n",
            "2\n",
            "3\n",
            "4\n",
            "5\n"
          ]
        }
      ]
    },
    {
      "cell_type": "markdown",
      "source": [
        "\n",
        "\n",
        "*  Praktikum 02 - Perulangan While\n",
        "\n"
      ],
      "metadata": {
        "id": "2UYADKaJIUXI"
      }
    },
    {
      "cell_type": "code",
      "source": [
        "n = int(input(\"Masukkan angka: \"))\n",
        "while n > 0:\n",
        "  print(n)\n",
        "  n -= 1\n",
        ""
      ],
      "metadata": {
        "colab": {
          "base_uri": "https://localhost:8080/"
        },
        "id": "U2Sa-agrIbRf",
        "outputId": "de430777-39a4-4754-bee6-06a6d656d8a8"
      },
      "execution_count": 5,
      "outputs": [
        {
          "output_type": "stream",
          "name": "stdout",
          "text": [
            "Masukkan angka: 5\n",
            "5\n",
            "4\n",
            "3\n",
            "2\n",
            "1\n"
          ]
        }
      ]
    },
    {
      "cell_type": "markdown",
      "source": [
        "\n",
        "\n",
        "*   Praktikum 03 - Nested Loop (Segitiga Bintang)\n",
        "\n"
      ],
      "metadata": {
        "id": "k_NXDDnOI-Zo"
      }
    },
    {
      "cell_type": "code",
      "source": [
        "for i in range(1, 6):\n",
        "  for j in range(i):\n",
        "    print(\"*\", end=\"\")\n",
        "  print()\n",
        ""
      ],
      "metadata": {
        "colab": {
          "base_uri": "https://localhost:8080/"
        },
        "id": "HJTdL8qxJIUk",
        "outputId": "a519cfdc-c53a-4aff-b05b-c8a13f663113"
      },
      "execution_count": 8,
      "outputs": [
        {
          "output_type": "stream",
          "name": "stdout",
          "text": [
            "*\n",
            "**\n",
            "***\n",
            "****\n",
            "*****\n"
          ]
        }
      ]
    },
    {
      "cell_type": "markdown",
      "source": [
        "\n",
        "\n",
        "*   Praktikum 04 - Break and Continue\n",
        "\n"
      ],
      "metadata": {
        "id": "0MVFJu7NJxhc"
      }
    },
    {
      "cell_type": "code",
      "source": [
        "for i in range(1, 11):\n",
        "  if i == 5:\n",
        "    print(\"Angka 5 ditemukan\")\n",
        "    break\n",
        ""
      ],
      "metadata": {
        "colab": {
          "base_uri": "https://localhost:8080/"
        },
        "id": "NYWzjMLyJ4ms",
        "outputId": "ddf8d606-ef78-4efb-a4c8-5c500d0a3aab"
      },
      "execution_count": 10,
      "outputs": [
        {
          "output_type": "stream",
          "name": "stdout",
          "text": [
            "Angka 5 ditemukan\n"
          ]
        }
      ]
    },
    {
      "cell_type": "code",
      "source": [
        "for i in range(1, 6):\n",
        "  if i % 2 == 1:\n",
        "    continue\n",
        "  print(i)\n",
        ""
      ],
      "metadata": {
        "colab": {
          "base_uri": "https://localhost:8080/"
        },
        "id": "Ln32zBxmKVTa",
        "outputId": "190c2e20-ee16-4fde-e804-5ebcdcd3e7d2"
      },
      "execution_count": 11,
      "outputs": [
        {
          "output_type": "stream",
          "name": "stdout",
          "text": [
            "2\n",
            "4\n"
          ]
        }
      ]
    },
    {
      "cell_type": "markdown",
      "source": [
        "\n",
        "\n",
        "*  Praktikum 05 - For Pada Dictionary\n",
        "\n"
      ],
      "metadata": {
        "id": "MBcCYHVkKsj4"
      }
    },
    {
      "cell_type": "code",
      "source": [
        "data = {\"Nama\": \"Andi\", \"Umur\": \"20\", \"Prodi\": \"TRK\"}\n",
        "\n",
        "for k, v in data.items():\n",
        "  print(k, \":\", v)\n"
      ],
      "metadata": {
        "colab": {
          "base_uri": "https://localhost:8080/"
        },
        "id": "dkDXXYcOK0wB",
        "outputId": "85c5f8e4-f349-4d25-a733-74efb0c2f375"
      },
      "execution_count": 13,
      "outputs": [
        {
          "output_type": "stream",
          "name": "stdout",
          "text": [
            "Nama : Andi\n",
            "Umur : 20\n",
            "Prodi : TRK\n"
          ]
        }
      ]
    },
    {
      "cell_type": "markdown",
      "source": [
        "\n",
        "\n",
        "*   Praktikum 06 - For dengan Enumerate\n",
        "\n"
      ],
      "metadata": {
        "id": "GGqoquocLoZM"
      }
    },
    {
      "cell_type": "code",
      "source": [
        "daftar = [\"Andi\", \"Budi\", \"Cici\"]\n",
        "\n",
        "for i, nama in enumerate(daftar, start=1):\n",
        "  print(i, nama)\n",
        ""
      ],
      "metadata": {
        "colab": {
          "base_uri": "https://localhost:8080/"
        },
        "id": "osEaRB0fLv0W",
        "outputId": "1ebc0ead-1294-4c54-db76-0fb130c22fe2"
      },
      "execution_count": 15,
      "outputs": [
        {
          "output_type": "stream",
          "name": "stdout",
          "text": [
            "1 Andi\n",
            "2 Budi\n",
            "3 Cici\n"
          ]
        }
      ]
    },
    {
      "cell_type": "markdown",
      "source": [
        "\n",
        "*   Praktikum 07 - Studi Kasus: Program Kasir Multi-Item\n"
      ],
      "metadata": {
        "id": "HJ0HRAwbMQpm"
      }
    },
    {
      "cell_type": "code",
      "source": [
        "total = 0\n",
        "\n",
        "while True:\n",
        "  barang = input(\"Masukkan nama barang (ketik 'selesai' untuk berhenti): \")\n",
        "  if barang.lower() == \"selesai\":\n",
        "      break\n",
        "  harga = float(input(f\"Masukkan harga {barang}: \"))\n",
        "  jumlah = int(input(f\"Masukkan jumlah {barang}: \"))\n",
        "  subtotal = harga * jumlah\n",
        "  total += subtotal\n",
        "\n",
        "print(\"\\n===== Struk Belanja =====\")\n",
        "print(f\"Total Belanja : Rp {total}\")"
      ],
      "metadata": {
        "colab": {
          "base_uri": "https://localhost:8080/"
        },
        "id": "DgcLSG3RMkgU",
        "outputId": "adedfb47-2c18-4b15-c9e0-c50be90cc386"
      },
      "execution_count": 16,
      "outputs": [
        {
          "output_type": "stream",
          "name": "stdout",
          "text": [
            "Masukkan nama barang (ketik 'selesai' untuk berhenti): Buku\n",
            "Masukkan harga Buku: 50000\n",
            "Masukkan jumlah Buku: 2\n",
            "Masukkan nama barang (ketik 'selesai' untuk berhenti): Pulpen\n",
            "Masukkan harga Pulpen: 5000\n",
            "Masukkan jumlah Pulpen: 3\n",
            "Masukkan nama barang (ketik 'selesai' untuk berhenti): selesai\n",
            "\n",
            "===== Struk Belanja =====\n",
            "Total Belanja : Rp 115000.0\n"
          ]
        }
      ]
    },
    {
      "cell_type": "markdown",
      "source": [
        "\n",
        "\n",
        "*   Penugasan 3 - Menampilkan Deret Angka\n"
      ],
      "metadata": {
        "id": "1gY4vGt3QMht"
      }
    },
    {
      "cell_type": "code",
      "source": [
        "for i in range(3, 31, 3):\n",
        "  print(i)\n",
        ""
      ],
      "metadata": {
        "colab": {
          "base_uri": "https://localhost:8080/"
        },
        "id": "i7etfj3ZQS4w",
        "outputId": "78306eee-1095-4cf6-c72c-d6111a8a9fba"
      },
      "execution_count": 18,
      "outputs": [
        {
          "output_type": "stream",
          "name": "stdout",
          "text": [
            "3\n",
            "6\n",
            "9\n",
            "12\n",
            "15\n",
            "18\n",
            "21\n",
            "24\n",
            "27\n",
            "30\n"
          ]
        }
      ]
    },
    {
      "cell_type": "markdown",
      "source": [
        "\n",
        "\n",
        "*   Penugasan 4 - Hitung Faktorial\n",
        "\n"
      ],
      "metadata": {
        "id": "DHYYmP1hRPkQ"
      }
    },
    {
      "cell_type": "code",
      "source": [
        "n = int(input(\"Masukkan angka: \"))\n",
        "faktorial = 1\n",
        "for i in range(1, n + 1):\n",
        "  faktorial *= i\n",
        "print(f\"Faktorial dari {n} adalah {faktorial}\")\n"
      ],
      "metadata": {
        "colab": {
          "base_uri": "https://localhost:8080/"
        },
        "id": "0aDXda8iRV-p",
        "outputId": "b42aadf5-eabe-40ba-f2c7-b050ae8c141a"
      },
      "execution_count": 21,
      "outputs": [
        {
          "output_type": "stream",
          "name": "stdout",
          "text": [
            "Masukkan angka: 5\n",
            "Faktorial dari 5 adalah 120\n"
          ]
        }
      ]
    },
    {
      "cell_type": "markdown",
      "source": [
        "\n",
        "\n",
        "*  Penugasan 5 - Pola Segitiga Terbalik\n",
        "\n"
      ],
      "metadata": {
        "id": "Uoh8GCBOSJJi"
      }
    },
    {
      "cell_type": "code",
      "source": [
        "tinggi = 5\n",
        "\n",
        "for i in range(tinggi, 0, -1):\n",
        "    for j in range(i):\n",
        "        print(\"*\", end=\"\")\n",
        "    print()"
      ],
      "metadata": {
        "colab": {
          "base_uri": "https://localhost:8080/"
        },
        "id": "-iTuwc1WSRj-",
        "outputId": "f94bb3c7-5a12-4c64-94b2-201f1419385c"
      },
      "execution_count": 25,
      "outputs": [
        {
          "output_type": "stream",
          "name": "stdout",
          "text": [
            "*****\n",
            "****\n",
            "***\n",
            "**\n",
            "*\n"
          ]
        }
      ]
    },
    {
      "cell_type": "markdown",
      "source": [
        "\n",
        "\n",
        "*   Penugasan 6 - Cari Bilangan Prima dengan Break\n",
        "\n"
      ],
      "metadata": {
        "id": "UunD1aG_TNAO"
      }
    },
    {
      "cell_type": "code",
      "source": [
        "bilangan = int(input(\"Masukkan sebuah bilangan: \"))\n",
        "\n",
        "if bilangan > 1:\n",
        "    for i in range(2, bilangan):\n",
        "        if bilangan % i == 0:\n",
        "            print(bilangan, \"bukan bilangan prima (habis dibagi\", i, \")\")\n",
        "            break\n",
        "    else:\n",
        "        print(bilangan, \"adalah bilangan prima\")\n",
        "else:\n",
        "    print(bilangan, \"bukan bilangan prima\")\n"
      ],
      "metadata": {
        "colab": {
          "base_uri": "https://localhost:8080/"
        },
        "id": "PRV70dMFTUDo",
        "outputId": "b46c5a03-d196-4259-dce3-d3da7a949415"
      },
      "execution_count": 37,
      "outputs": [
        {
          "output_type": "stream",
          "name": "stdout",
          "text": [
            "Masukkan sebuah bilangan: 547\n",
            "547 adalah bilangan prima\n"
          ]
        }
      ]
    },
    {
      "cell_type": "markdown",
      "source": [
        "\n",
        "\n",
        "*   Penugasan 7 - Tampilan Hanya Bilangan Genap dengan Continue\n",
        "\n"
      ],
      "metadata": {
        "id": "_M-nffsdU58n"
      }
    },
    {
      "cell_type": "code",
      "source": [
        "for i in range(1, 21):\n",
        "  if i % 2 != 0:\n",
        "    continue\n",
        "  print(i)\n",
        ""
      ],
      "metadata": {
        "colab": {
          "base_uri": "https://localhost:8080/"
        },
        "id": "Sh1DmiA1VJKz",
        "outputId": "288a7f45-25dc-491e-e793-56a914d9048f"
      },
      "execution_count": 41,
      "outputs": [
        {
          "output_type": "stream",
          "name": "stdout",
          "text": [
            "2\n",
            "4\n",
            "6\n",
            "8\n",
            "10\n",
            "12\n",
            "14\n",
            "16\n",
            "18\n",
            "20\n"
          ]
        }
      ]
    },
    {
      "cell_type": "markdown",
      "source": [
        "\n",
        "\n",
        "*   Penugasan 8 - Iterasi Dictionary Mahasiswa\n",
        "\n"
      ],
      "metadata": {
        "id": "DlihO61MVyAt"
      }
    },
    {
      "cell_type": "code",
      "source": [
        "mahasiswa = {\"Nama\": \"Budi\", \"Umur\": 21, \"Prodi\": \"Teknik Komputer\"}\n",
        "\n",
        "for key, value in mahasiswa.items():\n",
        "    print(key, \":\", value, end=\" \")\n"
      ],
      "metadata": {
        "colab": {
          "base_uri": "https://localhost:8080/"
        },
        "id": "fu-3JaQIV80Y",
        "outputId": "96f6959d-1c6a-48e1-db80-b7fba9ad52ee"
      },
      "execution_count": 42,
      "outputs": [
        {
          "output_type": "stream",
          "name": "stdout",
          "text": [
            "Nama : Budi Umur : 21 Prodi : Teknik Komputer "
          ]
        }
      ]
    },
    {
      "cell_type": "markdown",
      "source": [
        "\n",
        "\n",
        "*   Penugasan 9 Enumerate Daftar Barang\n",
        "\n"
      ],
      "metadata": {
        "id": "HxkwWuHBXK0e"
      }
    },
    {
      "cell_type": "code",
      "source": [
        "barang = [\"Buku\", \"Pulpen\", \"Tas\"]\n",
        "\n",
        "for i, item in enumerate(barang, start=1):\n",
        "    print(i, item)\n"
      ],
      "metadata": {
        "colab": {
          "base_uri": "https://localhost:8080/"
        },
        "id": "aOFhtFa5XXip",
        "outputId": "84793641-c225-4dc6-aabd-21eb8e8d728d"
      },
      "execution_count": 43,
      "outputs": [
        {
          "output_type": "stream",
          "name": "stdout",
          "text": [
            "1 Buku\n",
            "2 Pulpen\n",
            "3 Tas\n"
          ]
        }
      ]
    },
    {
      "cell_type": "markdown",
      "source": [
        "\n",
        "\n",
        "*   Penugasaan 10 - Kasir Diskon\n"
      ],
      "metadata": {
        "id": "mCaLGCJ-X8mK"
      }
    },
    {
      "cell_type": "code",
      "source": [
        "print(\"=== Program Kasir Sederhana ===\")\n",
        "print(\"Ketik 'selesai' jika sudah selesai belanja.\\n\")\n",
        "\n",
        "total = 0\n",
        "barang_list = []\n",
        "\n",
        "while True:\n",
        "    nama = input(\"Nama barang: \")\n",
        "\n",
        "    if nama.lower() == \"selesai\":\n",
        "        break\n",
        "\n",
        "    jumlah = int(input(\"Jumlah: \"))\n",
        "    harga = int(input(\"Harga barang (Rp): \"))\n",
        "\n",
        "    subtotal = harga * jumlah\n",
        "    total += subtotal\n",
        "    barang_list.append((nama, harga, jumlah, subtotal))\n",
        "    print(f\"Subtotal untuk {nama}: Rp{subtotal:,}\\n\")\n",
        "\n",
        "diskon = 0\n",
        "if total >= 200_000:\n",
        "    diskon = total * 0.10\n",
        "\n",
        "total_bayar = total - diskon\n",
        "\n",
        "print(\"\\n=== STRUK BELANJA ===\")\n",
        "for item in barang_list:\n",
        "    print(f\"{item[0]} (x{item[2]}) - Rp{item[1]:,} = Rp{item[3]:,}\")\n",
        "\n",
        "print(\"--------------------------\")\n",
        "print(f\"Total Belanja : Rp{total:,}\")\n",
        "print(f\"Diskon (10%)  : Rp{diskon:,}\")\n",
        "print(f\"Total Bayar   : Rp{total_bayar:,}\")\n",
        "print(\"==========================\")\n",
        "print(\"Terima kasih telah berbelanja!\")\n"
      ],
      "metadata": {
        "colab": {
          "base_uri": "https://localhost:8080/"
        },
        "id": "c5mkbupSYD4v",
        "outputId": "d408515c-8e81-4c19-8d81-21e344741cc3"
      },
      "execution_count": 47,
      "outputs": [
        {
          "output_type": "stream",
          "name": "stdout",
          "text": [
            "=== Program Kasir Sederhana ===\n",
            "Ketik 'selesai' jika sudah selesai belanja.\n",
            "\n",
            "Nama barang: tas\n",
            "Jumlah: 2\n",
            "Harga barang (Rp): 60000\n",
            "Subtotal untuk tas: Rp120,000\n",
            "\n",
            "Nama barang: sepatu\n",
            "Jumlah: 1\n",
            "Harga barang (Rp): 500000\n",
            "Subtotal untuk sepatu: Rp500,000\n",
            "\n",
            "Nama barang: pensil\n",
            "Jumlah: 4\n",
            "Harga barang (Rp): 4000\n",
            "Subtotal untuk pensil: Rp16,000\n",
            "\n",
            "Nama barang: selesai\n",
            "\n",
            "=== STRUK BELANJA ===\n",
            "tas (x2) - Rp60,000 = Rp120,000\n",
            "sepatu (x1) - Rp500,000 = Rp500,000\n",
            "pensil (x4) - Rp4,000 = Rp16,000\n",
            "--------------------------\n",
            "Total Belanja : Rp636,000\n",
            "Diskon (10%)  : Rp63,600.0\n",
            "Total Bayar   : Rp572,400.0\n",
            "==========================\n",
            "Terima kasih telah berbelanja!\n"
          ]
        }
      ]
    }
  ]
}