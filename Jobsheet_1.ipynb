{
  "nbformat": 4,
  "nbformat_minor": 0,
  "metadata": {
    "colab": {
      "provenance": [],
      "authorship_tag": "ABX9TyPiVxIHziRog/kzjeBWhwhs",
      "include_colab_link": true
    },
    "kernelspec": {
      "name": "python3",
      "display_name": "Python 3"
    },
    "language_info": {
      "name": "python"
    }
  },
  "cells": [
    {
      "cell_type": "markdown",
      "metadata": {
        "id": "view-in-github",
        "colab_type": "text"
      },
      "source": [
        "<a href=\"https://colab.research.google.com/github/herdinsavira/Algoritma-Pemograman/blob/main/Jobsheet_1.ipynb\" target=\"_parent\"><img src=\"https://colab.research.google.com/assets/colab-badge.svg\" alt=\"Open In Colab\"/></a>"
      ]
    },
    {
      "cell_type": "markdown",
      "source": [
        "\n",
        "\n",
        "*   Praktikum 01 Luas Persegi Panjang\n",
        "\n"
      ],
      "metadata": {
        "id": "FcJ6-baG5A1D"
      }
    },
    {
      "cell_type": "code",
      "source": [
        "p = int(input(\"Masukkan panjang: \"))\n",
        "l = int(input(\"Masukkan lebar:\" ))\n",
        "luas = p * l\n",
        "print(\"Luas persegi panjang =\", luas)"
      ],
      "metadata": {
        "colab": {
          "base_uri": "https://localhost:8080/"
        },
        "id": "cOxQnpr38ghA",
        "outputId": "3fa5d7a3-b5ff-4efc-c8ff-8c8ca0d21034"
      },
      "execution_count": null,
      "outputs": [
        {
          "output_type": "stream",
          "name": "stdout",
          "text": [
            "Masukkan panjang: 12\n",
            "Masukkan lebar:10\n",
            "Luas persegi panjang = 120\n"
          ]
        }
      ]
    },
    {
      "cell_type": "markdown",
      "source": [
        "\n",
        "\n",
        "*   Praktikum 02 Luas Segitiga(Heron)\n",
        "\n"
      ],
      "metadata": {
        "id": "lXbSsXRw9c6a"
      }
    },
    {
      "cell_type": "code",
      "source": [
        "import math\n",
        "\n",
        "a = float(input(\"Masukkan sisi a: \"))\n",
        "b = float(input(\"Masukkan sisi b: \"))\n",
        "c = float(input(\"Masukkan sisi c: \"))\n",
        "\n",
        "s = (a + b + c) / 2\n",
        "luas = math.sqrt(s * (s - a) * (s - b) * (s - c))\n",
        "print(\"Luas segitiga =\", luas)"
      ],
      "metadata": {
        "colab": {
          "base_uri": "https://localhost:8080/"
        },
        "id": "LUdmp6Wt9n4W",
        "outputId": "0bcaf6eb-15d9-45b7-971c-5971b92bb1f8"
      },
      "execution_count": null,
      "outputs": [
        {
          "output_type": "stream",
          "name": "stdout",
          "text": [
            "Masukkan sisi a: 3\n",
            "Masukkan sisi b: 4\n",
            "Masukkan sisi c: 5\n",
            "Luas segitiga = 6.0\n"
          ]
        }
      ]
    },
    {
      "cell_type": "markdown",
      "source": [
        "\n",
        "\n",
        "*   Praktikum 03 Konversi Suhu Celcius ke Farenheit\n",
        "\n"
      ],
      "metadata": {
        "id": "skcVa65p_KVY"
      }
    },
    {
      "cell_type": "code",
      "source": [
        "c = float(input(\"Masukkan suhu (celcius)\"))\n",
        "f = (c * 9/5) + 32\n",
        "print(\"Hasil konversi =\", f, \"farenheit\")"
      ],
      "metadata": {
        "colab": {
          "base_uri": "https://localhost:8080/"
        },
        "id": "WgkRzT20_Fkl",
        "outputId": "dd8a1de1-435c-412f-ac81-dd77552cfbf1"
      },
      "execution_count": null,
      "outputs": [
        {
          "output_type": "stream",
          "name": "stdout",
          "text": [
            "Masukkan suhu (celcius)26\n",
            "Hasil konversi = 78.8 farenheit\n"
          ]
        }
      ]
    },
    {
      "cell_type": "markdown",
      "source": [
        "\n",
        "\n",
        "*   Praktikum 04 Menghitung Umur Berdasarkan Tahun Lahir\n",
        "\n"
      ],
      "metadata": {
        "id": "-0ZRq_dMAvtl"
      }
    },
    {
      "cell_type": "code",
      "source": [
        "tahun_lahir = int(input(\"Masukkan tahun lahir: \"))\n",
        "tahun_sekarang = 2025\n",
        "umur = tahun_sekarang - tahun_lahir\n",
        "print(\"Umur saya =\", umur, \"tahun\")"
      ],
      "metadata": {
        "colab": {
          "base_uri": "https://localhost:8080/"
        },
        "id": "IhHv3JuoBDSS",
        "outputId": "0ce05ae8-ffd1-46f9-d4cd-8ac1be9bee36"
      },
      "execution_count": null,
      "outputs": [
        {
          "output_type": "stream",
          "name": "stdout",
          "text": [
            "Masukkan tahun lahir: 2006\n",
            "Umur saya = 19 tahun\n"
          ]
        }
      ]
    },
    {
      "cell_type": "markdown",
      "source": [
        "\n",
        "\n",
        "*   Praktikum 05 Menghitung Luas Lingkaran\n",
        "\n"
      ],
      "metadata": {
        "id": "sgIkV0AKB98L"
      }
    },
    {
      "cell_type": "code",
      "source": [
        "import math\n",
        "r = float(input(\"Masukkan jari-jari lingkaran: \"))\n",
        "luas = math.pi * r * r\n",
        "print(\"Luas lingkaran =\", luas)"
      ],
      "metadata": {
        "colab": {
          "base_uri": "https://localhost:8080/"
        },
        "id": "v6V0xq86CJ1V",
        "outputId": "9864cdaa-28fb-445d-cd3b-875490c71aa7"
      },
      "execution_count": null,
      "outputs": [
        {
          "output_type": "stream",
          "name": "stdout",
          "text": [
            "Masukkan jari-jari lingkaran: 14\n",
            "Luas lingkaran = 615.7521601035994\n"
          ]
        }
      ]
    },
    {
      "cell_type": "markdown",
      "source": [
        "\n",
        "\n",
        "*   Praktikum 06 Menjumlahkan 3 Bilangan\n",
        "\n"
      ],
      "metadata": {
        "id": "GtnQp0ZpFSeI"
      }
    },
    {
      "cell_type": "code",
      "source": [
        "a = int(input(\"Masukkan bilangan a: \"))\n",
        "b = int(input(\"Masukkan bilangan b: \"))\n",
        "c = int(input(\"Masukkan bilangan c: \"))\n",
        "jumlah = a + b + c\n",
        "print(\"Jumlah =\", jumlah)"
      ],
      "metadata": {
        "colab": {
          "base_uri": "https://localhost:8080/"
        },
        "id": "oRqF_cYxFbPd",
        "outputId": "18b9c9db-b484-4f04-f2e1-135997c9f0b1"
      },
      "execution_count": null,
      "outputs": [
        {
          "output_type": "stream",
          "name": "stdout",
          "text": [
            "Masukkan bilangan a: 4\n",
            "Masukkan bilangan b: 5\n",
            "Masukkan bilangan c: 6\n",
            "Jumlah = 15\n"
          ]
        }
      ]
    },
    {
      "cell_type": "markdown",
      "source": [
        "\n",
        "\n",
        "*   Penugasan 03 Menghitung Volume Balok\n",
        "\n"
      ],
      "metadata": {
        "id": "dlORbRLoFZH0"
      }
    },
    {
      "cell_type": "code",
      "source": [
        "p = int(input(\"Masukkan panjang:\"))\n",
        "l = int(input(\"Masukkan lebar:\"))\n",
        "t = int(input(\"Masukkan tinggi:\"))\n",
        "volume = p * l * t\n",
        "print(\"Volume balok =\", volume)"
      ],
      "metadata": {
        "colab": {
          "base_uri": "https://localhost:8080/"
        },
        "id": "HLtmDKQwGI2j",
        "outputId": "ba55c711-e8f3-4b92-f4f4-2dac5839410d"
      },
      "execution_count": null,
      "outputs": [
        {
          "output_type": "stream",
          "name": "stdout",
          "text": [
            "Masukkan panjang:4\n",
            "Masukkan lebar:5\n",
            "Masukkan tinggi:7\n",
            "Volume balok = 140\n"
          ]
        }
      ]
    },
    {
      "cell_type": "markdown",
      "source": [
        "\n",
        "\n",
        "*   Penugasan 04 Konversi Waktu (Detik ke Jam:Menit:Detik)\n",
        "\n"
      ],
      "metadata": {
        "id": "nJQEDSC6Hv6P"
      }
    },
    {
      "cell_type": "code",
      "source": [
        "totalDetik = int(input(\"Masukkan detik:\"))\n",
        "sisaDetik = totalDetik % 60\n",
        "detik = totalDetik % 60\n",
        "menit = (totalDetik // 60) % 60\n",
        "detik = sisaDetik % 60\n",
        "jam = (totalDetik // 3600)\n",
        "menit = menit % 60\n",
        "print(\"Konversi Waktu dari\", totalDetik,\"detik adalah\",jam,\"jam\",menit,\"menit\",sisaDetik,\"detik\")"
      ],
      "metadata": {
        "colab": {
          "base_uri": "https://localhost:8080/"
        },
        "id": "CokJsW-oIEKi",
        "outputId": "65057698-87e3-49bb-924e-248c20376706"
      },
      "execution_count": null,
      "outputs": [
        {
          "output_type": "stream",
          "name": "stdout",
          "text": [
            "Masukkan detik:8700\n",
            "Konversi Waktu dari 8700 detik adalah 2 jam 25 menit 0 detik\n"
          ]
        }
      ]
    },
    {
      "cell_type": "markdown",
      "source": [
        "\n",
        "\n",
        "*   Penugasan 05 Rata-Rata Nilai Tiga Mata Kuliah\n",
        "\n"
      ],
      "metadata": {
        "id": "A6h9m1QQJt0B"
      }
    },
    {
      "cell_type": "code",
      "source": [
        "a = float(input(\"Nilai Mata Kuliah 1 :\"))\n",
        "b = float(input(\"Nilai Mata Kuliah 2 :\"))\n",
        "c = float(input(\"Nilai Mata Kuliah 3 :\"))\n",
        "rataRata = (a + b + c) / 3\n",
        "if rataRata>= 60:\n",
        "  keterangan = \"Lulus\"\n",
        "else:\n",
        "  keterangan = \"Tidak Lulus\"\n",
        "  print(\"Rata-rata nilai Anda:\", rataRata)\n",
        "  print(\"Keterangan\", keterangan)"
      ],
      "metadata": {
        "colab": {
          "base_uri": "https://localhost:8080/"
        },
        "id": "_Fi2sXx0KHnz",
        "outputId": "e5acc751-8e79-4c5d-ef5f-9fbd5ef8ccc2"
      },
      "execution_count": null,
      "outputs": [
        {
          "output_type": "stream",
          "name": "stdout",
          "text": [
            "Nilai Mata Kuliah 1 :50\n",
            "Nilai Mata Kuliah 2 :60\n",
            "Nilai Mata Kuliah 3 :50\n",
            "Rata-rata nilai Anda: 53.333333333333336\n",
            "Keterangan Tidak Lulus\n"
          ]
        }
      ]
    },
    {
      "cell_type": "markdown",
      "source": [
        "\n",
        "\n",
        "*   Penugasan 06 Menghitung Diskon Belanja\n",
        "\n"
      ],
      "metadata": {
        "id": "2LNA3xiSN46x"
      }
    },
    {
      "cell_type": "code",
      "source": [
        "# Menerima input total belanja dari pengguna\n",
        "total_belanja = float(input(\"Masukkan total belanja: \"))\n",
        "\n",
        "# Menentukan diskon berdasarkan kondisi\n",
        "if total_belanja >= 500000:\n",
        "    diskon = 0.20\n",
        "elif total_belanja >= 250000:\n",
        "    diskon = 0.10\n",
        "else:\n",
        "    diskon = 0.0\n",
        "\n",
        "# Menghitung total bayar setelah diskon\n",
        "total_bayar = total_belanja - (total_belanja * diskon)\n",
        "\n",
        "# Menampilkan hasil\n",
        "print(f\"Total belanja: Rp{total_belanja:,.2f}\")\n",
        "print(f\"Diskon yang didapat: {diskon * 100:.0f}%\")\n",
        "print(f\"Total yang harus dibayar: Rp{total_bayar:,.2f}\")"
      ],
      "metadata": {
        "colab": {
          "base_uri": "https://localhost:8080/"
        },
        "id": "kXeuyH3NOhHw",
        "outputId": "d3d2b570-64e6-40a4-a09b-47d91207f8cc"
      },
      "execution_count": null,
      "outputs": [
        {
          "output_type": "stream",
          "name": "stdout",
          "text": [
            "Masukkan total belanja: 1000000\n",
            "Total belanja: Rp1,000,000.00\n",
            "Diskon yang didapat: 20%\n",
            "Total yang harus dibayar: Rp800,000.00\n"
          ]
        }
      ]
    }
  ]
}