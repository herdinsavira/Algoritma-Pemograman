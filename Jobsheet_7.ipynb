{
  "nbformat": 4,
  "nbformat_minor": 0,
  "metadata": {
    "colab": {
      "provenance": [],
      "authorship_tag": "ABX9TyOmFxtbpRlNMnl16mzNxQah",
      "include_colab_link": true
    },
    "kernelspec": {
      "name": "python3",
      "display_name": "Python 3"
    },
    "language_info": {
      "name": "python"
    }
  },
  "cells": [
    {
      "cell_type": "markdown",
      "metadata": {
        "id": "view-in-github",
        "colab_type": "text"
      },
      "source": [
        "<a href=\"https://colab.research.google.com/github/herdinsavira/Algoritma-Pemograman/blob/main/Jobsheet_7.ipynb\" target=\"_parent\"><img src=\"https://colab.research.google.com/assets/colab-badge.svg\" alt=\"Open In Colab\"/></a>"
      ]
    },
    {
      "cell_type": "markdown",
      "source": [
        "Praktikum 01 - Tuple: Data Tetap yang Tidak Bisa Diubah"
      ],
      "metadata": {
        "id": "GNfLvRWEBdml"
      }
    },
    {
      "cell_type": "code",
      "execution_count": null,
      "metadata": {
        "colab": {
          "base_uri": "https://localhost:8080/"
        },
        "id": "1biNxijABa76",
        "outputId": "26ef4475-ec9d-4207-ec0e-2bd8e454b422"
      },
      "outputs": [
        {
          "output_type": "stream",
          "name": "stdout",
          "text": [
            "Lintang: 7.05\n",
            "Bujur: 110.44\n"
          ]
        }
      ],
      "source": [
        "koordinat = (7.05, 110.44)\n",
        "print(\"Lintang:\", koordinat[0])\n",
        "print(\"Bujur:\", koordinat[1])"
      ]
    },
    {
      "cell_type": "markdown",
      "source": [
        "Praktikum 02 - Dictionary Dasar: Menyimpan Data Mahasiswa"
      ],
      "metadata": {
        "id": "B4pjdlxpW57Z"
      }
    },
    {
      "cell_type": "code",
      "source": [
        "mahasiswa = {\n",
        "    \"NIM\": \"20251001\",\n",
        "    \"Nama\": \"Andi\",\n",
        "    \"Prodi\": \"TRK\"\n",
        "}\n",
        "\n",
        "print(\"NIM :\", mahasiswa[\"NIM\"])\n",
        "print(\"Nama :\", mahasiswa[\"Nama\"])\n",
        "print(\"Prodi :\", mahasiswa[\"Prodi\"])"
      ],
      "metadata": {
        "colab": {
          "base_uri": "https://localhost:8080/"
        },
        "id": "bsX-EHsXW-mc",
        "outputId": "dabcbcb5-bf4f-4c2d-a8af-17258759e496"
      },
      "execution_count": null,
      "outputs": [
        {
          "output_type": "stream",
          "name": "stdout",
          "text": [
            "NIM : 20251001\n",
            "Nama : Andi\n",
            "Prodi : TRK\n"
          ]
        }
      ]
    },
    {
      "cell_type": "markdown",
      "source": [
        "Praktikum 03 - Operasi pada Dictionary"
      ],
      "metadata": {
        "id": "r5O5I0fjoIIW"
      }
    },
    {
      "cell_type": "code",
      "source": [
        "mahasiswa = {\n",
        "    \"NIM\": \"20251001\",\n",
        "    \"Nama\": \"Andi\",\n",
        "    \"Prodi\": \"TRK\"\n",
        "}\n",
        "\n",
        "mahasiswa[\"Umur\"] = 20              # menambah data\n",
        "mahasiswa[\"Prodi\"] = \"Teknik Komputer\" #memperbarui data\n",
        "del mahasiswa[\"Umur\"]               # menghapus data\n",
        "\n",
        "print(mahasiswa)"
      ],
      "metadata": {
        "colab": {
          "base_uri": "https://localhost:8080/"
        },
        "id": "IiqK-lSNoLiN",
        "outputId": "8ac7a304-df5e-491d-fdb0-e2906a29401b"
      },
      "execution_count": null,
      "outputs": [
        {
          "output_type": "stream",
          "name": "stdout",
          "text": [
            "{'NIM': '20251001', 'Nama': 'Andi', 'Prodi': 'Teknik Komputer'}\n"
          ]
        }
      ]
    },
    {
      "cell_type": "markdown",
      "source": [
        "Praktikum 04 – Set dan Operasi Himpunan"
      ],
      "metadata": {
        "id": "jwJ-47vqpjt7"
      }
    },
    {
      "cell_type": "code",
      "source": [
        "A = {1, 2, 3, 4}\n",
        "B = {3, 4, 5, 6}\n",
        "\n",
        "print(\"Union:\", A | B)\n",
        "print(\"Intersection:\", A & B)\n",
        "print(\"Difference:\", A - B)\n"
      ],
      "metadata": {
        "colab": {
          "base_uri": "https://localhost:8080/"
        },
        "id": "wb3IHMkBpu4z",
        "outputId": "60bc7f7b-592e-4649-c257-1ef3b13113a3"
      },
      "execution_count": null,
      "outputs": [
        {
          "output_type": "stream",
          "name": "stdout",
          "text": [
            "Union: {1, 2, 3, 4, 5, 6}\n",
            "Intersection: {3, 4}\n",
            "Difference: {1, 2}\n"
          ]
        }
      ]
    },
    {
      "cell_type": "markdown",
      "source": [
        "Praktikum 05 – Studi Kasus: Data Mahasiswa dan Mata Kuliah"
      ],
      "metadata": {
        "id": "P5RqfRnYrAJK"
      }
    },
    {
      "cell_type": "code",
      "source": [
        "mhs1 = {\"Algoritma\", \"Matematika\", \"Bahasa Inggris\"}\n",
        "mhs2 = {\"Algoritma\", \"Basis Data\", \"Matematika\"}\n",
        "\n",
        "print(\"Mata kuliah Mhs1:\", mhs1)\n",
        "print(\"Mata kuliah Mhs2:\", mhs2)\n",
        "print(\"Mata kuliah yang sama:\", mhs1 & mhs2)"
      ],
      "metadata": {
        "colab": {
          "base_uri": "https://localhost:8080/"
        },
        "id": "hBKNqHzQrCd6",
        "outputId": "18ddd90e-94b7-443b-c1cd-bae4bf59bbe8"
      },
      "execution_count": null,
      "outputs": [
        {
          "output_type": "stream",
          "name": "stdout",
          "text": [
            "Mata kuliah Mhs1: {'Bahasa Inggris', 'Matematika', 'Algoritma'}\n",
            "Mata kuliah Mhs2: {'Basis Data', 'Matematika', 'Algoritma'}\n",
            "Mata kuliah yang sama: {'Matematika', 'Algoritma'}\n"
          ]
        }
      ]
    },
    {
      "cell_type": "markdown",
      "source": [
        "Praktikum 06 – Studi Kasus Dictionary: Daftar Nilai Mahasiswa"
      ],
      "metadata": {
        "id": "JRRL5TCJscJf"
      }
    },
    {
      "cell_type": "code",
      "source": [
        "nilai_mahasiswa = {\n",
        "    \"Andi\": 80,\n",
        "    \"Budi\": 75,\n",
        "    \"Cici\": 90\n",
        "}\n",
        "\n",
        "for nama, nilai in nilai_mahasiswa.items():\n",
        "    print(f\"{nama}: {nilai}\")\n",
        "\n",
        "rata = sum(nilai_mahasiswa.values()) / len(nilai_mahasiswa)\n",
        "print(f\"Rata-rata nilai: {rata:.2f}\")"
      ],
      "metadata": {
        "colab": {
          "base_uri": "https://localhost:8080/"
        },
        "id": "w1LUCLHnsfB8",
        "outputId": "72ba27ac-f7eb-4b30-9dfe-e2771d3968db"
      },
      "execution_count": null,
      "outputs": [
        {
          "output_type": "stream",
          "name": "stdout",
          "text": [
            "Andi: 80\n",
            "Budi: 75\n",
            "Cici: 90\n",
            "Rata-rata nilai: 81.67\n"
          ]
        }
      ]
    },
    {
      "cell_type": "markdown",
      "source": [
        "Penugasan 3 - Tuple Sederhana"
      ],
      "metadata": {
        "id": "tr8fl5A-tsg1"
      }
    },
    {
      "cell_type": "code",
      "source": [
        "mahasiswa = (\"Herdin Savira\", 19, \"TRK\")\n",
        "\n",
        "print(\"Nama  :\", mahasiswa[0])\n",
        "print(\"Umur  :\", mahasiswa[1])\n",
        "print(\"Prodi :\", mahasiswa[2])\n"
      ],
      "metadata": {
        "colab": {
          "base_uri": "https://localhost:8080/"
        },
        "id": "pu3xQly8tyXS",
        "outputId": "734467d1-22ec-4049-8703-c2a368bd912c"
      },
      "execution_count": null,
      "outputs": [
        {
          "output_type": "stream",
          "name": "stdout",
          "text": [
            "Nama  : Herdin Savira\n",
            "Umur  : 19\n",
            "Prodi : TRK\n"
          ]
        }
      ]
    },
    {
      "cell_type": "markdown",
      "source": [
        "Penugasan 4 - Tuple Tidak Bisa Diubah"
      ],
      "metadata": {
        "id": "WJY_CkI-uM9R"
      }
    },
    {
      "cell_type": "code",
      "source": [
        "data = (1, 2, 3)\n",
        "\n",
        "data[1] = 9\n",
        "\n",
        "print(data)"
      ],
      "metadata": {
        "colab": {
          "base_uri": "https://localhost:8080/",
          "height": 245
        },
        "id": "8c2f5HUPKoti",
        "outputId": "87288297-0d08-4d42-b0db-222ffddc79da"
      },
      "execution_count": null,
      "outputs": [
        {
          "output_type": "error",
          "ename": "TypeError",
          "evalue": "'tuple' object does not support item assignment",
          "traceback": [
            "\u001b[0;31m---------------------------------------------------------------------------\u001b[0m",
            "\u001b[0;31mTypeError\u001b[0m                                 Traceback (most recent call last)",
            "\u001b[0;32m/tmp/ipython-input-353170696.py\u001b[0m in \u001b[0;36m<cell line: 0>\u001b[0;34m()\u001b[0m\n\u001b[1;32m      1\u001b[0m \u001b[0mdata\u001b[0m \u001b[0;34m=\u001b[0m \u001b[0;34m(\u001b[0m\u001b[0;36m1\u001b[0m\u001b[0;34m,\u001b[0m \u001b[0;36m2\u001b[0m\u001b[0;34m,\u001b[0m \u001b[0;36m3\u001b[0m\u001b[0;34m)\u001b[0m\u001b[0;34m\u001b[0m\u001b[0;34m\u001b[0m\u001b[0m\n\u001b[1;32m      2\u001b[0m \u001b[0;34m\u001b[0m\u001b[0m\n\u001b[0;32m----> 3\u001b[0;31m \u001b[0mdata\u001b[0m\u001b[0;34m[\u001b[0m\u001b[0;36m1\u001b[0m\u001b[0;34m]\u001b[0m \u001b[0;34m=\u001b[0m \u001b[0;36m9\u001b[0m\u001b[0;34m\u001b[0m\u001b[0;34m\u001b[0m\u001b[0m\n\u001b[0m\u001b[1;32m      4\u001b[0m \u001b[0;34m\u001b[0m\u001b[0m\n\u001b[1;32m      5\u001b[0m \u001b[0mprint\u001b[0m\u001b[0;34m(\u001b[0m\u001b[0mdata\u001b[0m\u001b[0;34m)\u001b[0m\u001b[0;34m\u001b[0m\u001b[0;34m\u001b[0m\u001b[0m\n",
            "\u001b[0;31mTypeError\u001b[0m: 'tuple' object does not support item assignment"
          ]
        }
      ]
    },
    {
      "cell_type": "markdown",
      "source": [
        "Penugasan 5 - Dictionary Dasar"
      ],
      "metadata": {
        "id": "RYn-BNXU6qM2"
      }
    },
    {
      "cell_type": "code",
      "source": [
        "buku = {\"Judul\": \"Algoritma\", \"Penulis\": \"Munir\", \"Tahun\": 2021}\n",
        "\n",
        "print(\"Judul   :\", buku[\"Judul\"])\n",
        "print(\"Penulis :\", buku[\"Penulis\"])\n",
        "print(\"Tahun   :\", buku[\"Tahun\"])\n"
      ],
      "metadata": {
        "colab": {
          "base_uri": "https://localhost:8080/"
        },
        "id": "8f7w_wjQ6wVn",
        "outputId": "b0497518-156e-4f8b-fc47-3b02ba1269d8"
      },
      "execution_count": null,
      "outputs": [
        {
          "output_type": "stream",
          "name": "stdout",
          "text": [
            "Judul   : Algoritma\n",
            "Penulis : Munir\n",
            "Tahun   : 2021\n"
          ]
        }
      ]
    },
    {
      "cell_type": "markdown",
      "source": [
        "Penugasan 6 - Operasi Dictionary"
      ],
      "metadata": {
        "id": "zuhaXAq_626e"
      }
    },
    {
      "cell_type": "code",
      "source": [
        "dosen = {\"NIP\": \"12345\", \"Nama\": \"Siti\", \"Prodi\": \"TRK\"}\n",
        "\n",
        "dosen[\"Umur\"] = 40\n",
        "dosen[\"Prodi\"] = \"Teknik Komputer\"\n",
        "del dosen[\"Umur\"]\n",
        "\n",
        "print(\"Data Dosen Akhir:\", dosen)\n"
      ],
      "metadata": {
        "colab": {
          "base_uri": "https://localhost:8080/"
        },
        "id": "nVVcTo9S67jV",
        "outputId": "c6e47045-bbb3-47cf-e823-f14f49ac92e1"
      },
      "execution_count": 1,
      "outputs": [
        {
          "output_type": "stream",
          "name": "stdout",
          "text": [
            "Data Dosen Akhir: {'NIP': '12345', 'Nama': 'Siti', 'Prodi': 'Teknik Komputer'}\n"
          ]
        }
      ]
    },
    {
      "cell_type": "markdown",
      "source": [
        "Penugasan 7 - Set dan Himpunan"
      ],
      "metadata": {
        "id": "p8eaQ09h7w-T"
      }
    },
    {
      "cell_type": "code",
      "source": [
        "A = {\"Matematika\", \"Algoritma\", \"Bahasa Inggris\"}\n",
        "B = {\"Algoritma\", \"Basis Data\", \"Matematika\"}\n",
        "\n",
        "union = A | B                # Gabungan\n",
        "intersection = A & B         # Irisan\n",
        "difference = A - B           # Selisih\n",
        "\n",
        "print(\"Union        :\", union)\n",
        "print(\"Intersection :\", intersection)\n",
        "print(\"Difference   :\", difference)\n"
      ],
      "metadata": {
        "colab": {
          "base_uri": "https://localhost:8080/"
        },
        "id": "_kr9tfMM77Hf",
        "outputId": "5d58806a-5031-4602-e508-d0e3d922fc4c"
      },
      "execution_count": null,
      "outputs": [
        {
          "output_type": "stream",
          "name": "stdout",
          "text": [
            "Union        : {'Bahasa Inggris', 'Matematika', 'Algoritma', 'Basis Data'}\n",
            "Intersection : {'Matematika', 'Algoritma'}\n",
            "Difference   : {'Bahasa Inggris'}\n"
          ]
        }
      ]
    },
    {
      "cell_type": "markdown",
      "source": [
        "Penugasan 8 - Studi Kasus Dictionary"
      ],
      "metadata": {
        "id": "17OfYTLZ8x9Z"
      }
    },
    {
      "cell_type": "code",
      "source": [
        "nilai = {\"Andi\": 85, \"Budi\": 90, \"Cici\": 78}\n",
        "\n",
        "print(\"Daftar Nilai Mahasiswa:\")\n",
        "for nama, skor in nilai.items():\n",
        "    print(f\"{nama} : {skor}\")\n",
        "\n",
        "rata_rata = sum(nilai.values()) / len(nilai)\n",
        "\n",
        "print(\"\\nRata-rata nilai:\", rata_rata)\n"
      ],
      "metadata": {
        "colab": {
          "base_uri": "https://localhost:8080/"
        },
        "id": "_L4-JjUu865O",
        "outputId": "6284214e-425e-4552-dbd8-b87a6311d68f"
      },
      "execution_count": null,
      "outputs": [
        {
          "output_type": "stream",
          "name": "stdout",
          "text": [
            "Daftar Nilai Mahasiswa:\n",
            "Andi : 85\n",
            "Budi : 90\n",
            "Cici : 78\n",
            "\n",
            "Rata-rata nilai: 84.33333333333333\n"
          ]
        }
      ]
    },
    {
      "cell_type": "markdown",
      "source": [
        "Penugasan 9 - Studi Kasus Set – Klub Mahasiswa"
      ],
      "metadata": {
        "id": "OruZyWK4COpG"
      }
    },
    {
      "cell_type": "code",
      "source": [
        "klub_A = {\"Andi\", \"Budi\", \"Cici\"}\n",
        "klub_B = {\"Cici\", \"Deni\", \"Eka\"}\n",
        "\n",
        "anggota_semua = klub_A | klub_B          # Union\n",
        "anggota_dua_klub = klub_A & klub_B       # Intersection\n",
        "anggota_hanya_A = klub_A - klub_B        # Difference\n",
        "\n",
        "print(\"Daftar seluruh anggota (Union):\", anggota_semua)\n",
        "print(\"Anggota di kedua klub (Intersection):\", anggota_dua_klub)\n",
        "print(\"Anggota hanya di Klub A (Difference):\", anggota_hanya_A)\n"
      ],
      "metadata": {
        "colab": {
          "base_uri": "https://localhost:8080/"
        },
        "id": "Z8QK0acnCUg6",
        "outputId": "25574f3d-ca99-45e3-ca2a-358eeac4d64e"
      },
      "execution_count": null,
      "outputs": [
        {
          "output_type": "stream",
          "name": "stdout",
          "text": [
            "Daftar seluruh anggota (Union): {'Cici', 'Andi', 'Eka', 'Budi', 'Deni'}\n",
            "Anggota di kedua klub (Intersection): {'Cici'}\n",
            "Anggota hanya di Klub A (Difference): {'Andi', 'Budi'}\n"
          ]
        }
      ]
    }
  ]
}