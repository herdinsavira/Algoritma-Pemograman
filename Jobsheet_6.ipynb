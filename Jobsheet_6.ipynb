{
  "nbformat": 4,
  "nbformat_minor": 0,
  "metadata": {
    "colab": {
      "provenance": [],
      "authorship_tag": "ABX9TyMWXBuqMghOIhnFO/ba9PfB",
      "include_colab_link": true
    },
    "kernelspec": {
      "name": "python3",
      "display_name": "Python 3"
    },
    "language_info": {
      "name": "python"
    }
  },
  "cells": [
    {
      "cell_type": "markdown",
      "metadata": {
        "id": "view-in-github",
        "colab_type": "text"
      },
      "source": [
        "<a href=\"https://colab.research.google.com/github/herdinsavira/Algoritma-Pemograman/blob/main/Jobsheet_6.ipynb\" target=\"_parent\"><img src=\"https://colab.research.google.com/assets/colab-badge.svg\" alt=\"Open In Colab\"/></a>"
      ]
    },
    {
      "cell_type": "markdown",
      "source": [
        "Praktikum 01 - Membuat dan Mengakses List 1D"
      ],
      "metadata": {
        "id": "Nu7WvGu0tWHV"
      }
    },
    {
      "cell_type": "code",
      "execution_count": null,
      "metadata": {
        "colab": {
          "base_uri": "https://localhost:8080/"
        },
        "id": "gVb3aPVltHf6",
        "outputId": "2d206351-0a2a-439f-b443-3667afdcac37"
      },
      "outputs": [
        {
          "output_type": "stream",
          "name": "stdout",
          "text": [
            "Andi\n",
            "Budi\n",
            "Cici\n"
          ]
        }
      ],
      "source": [
        "mahasiswa = [\"Andi\", \"Budi\", \"Cici\"]\n",
        "print(mahasiswa[0])     # Andi\n",
        "print(mahasiswa[1])     # Budi\n",
        "print(mahasiswa[-1])     # Cici\n"
      ]
    },
    {
      "cell_type": "markdown",
      "source": [
        "Praktikum 02 - Update dan Operasi Dasar List"
      ],
      "metadata": {
        "id": "fe5-FHz7t7xK"
      }
    },
    {
      "cell_type": "code",
      "source": [
        "nilai =[85, 90, 78]\n",
        "nilai[1] = 95\n",
        "nilai.append(100)\n",
        "nilai.remove(78)\n",
        "print(nilai)"
      ],
      "metadata": {
        "colab": {
          "base_uri": "https://localhost:8080/"
        },
        "id": "B0sqStg0uCx3",
        "outputId": "76e526d2-afc3-43df-e985-6322d3fcd80b"
      },
      "execution_count": null,
      "outputs": [
        {
          "output_type": "stream",
          "name": "stdout",
          "text": [
            "[85, 95, 100]\n"
          ]
        }
      ]
    },
    {
      "cell_type": "markdown",
      "source": [
        "Praktikum 03 - Slicing List"
      ],
      "metadata": {
        "id": "fBPrWD67kURY"
      }
    },
    {
      "cell_type": "code",
      "source": [
        "nilai = [85, 90, 78, 92, 88]\n",
        "print(nilai[0:3])   # [85, 90, 78]\n",
        "print(nilai[2:])    # [78, 92, 88]\n",
        "print(nilai[:3])    # [85, 90, 78]"
      ],
      "metadata": {
        "colab": {
          "base_uri": "https://localhost:8080/"
        },
        "id": "s9jpLxHdkYe3",
        "outputId": "b19aaaf7-f8c4-4fb0-e7d5-c7f47adbf72c"
      },
      "execution_count": null,
      "outputs": [
        {
          "output_type": "stream",
          "name": "stdout",
          "text": [
            "[85, 90, 78]\n",
            "[78, 92, 88]\n",
            "[85, 90, 78]\n"
          ]
        }
      ]
    },
    {
      "cell_type": "markdown",
      "source": [
        "Praktikum 04 - List 2D(Matriks)"
      ],
      "metadata": {
        "id": "qWVAJ3hrlEAj"
      }
    },
    {
      "cell_type": "code",
      "source": [
        "matriks = [\n",
        "    [1, 2, 3],\n",
        "    [4, 5, 6],\n",
        "    [7, 8, 9]\n",
        "]\n",
        "\n",
        "print(matriks[0][0])  # 1\n",
        "print(matriks[1][2])  # 6\n",
        "print(matriks[2])     # [7, 8, 9]"
      ],
      "metadata": {
        "colab": {
          "base_uri": "https://localhost:8080/"
        },
        "id": "r3mACccVlJc9",
        "outputId": "f24df3c2-b1da-4780-f641-e129ab4fb58b"
      },
      "execution_count": null,
      "outputs": [
        {
          "output_type": "stream",
          "name": "stdout",
          "text": [
            "1\n",
            "6\n",
            "[7, 8, 9]\n"
          ]
        }
      ]
    },
    {
      "cell_type": "markdown",
      "source": [
        "Praktikum 05 - Operasi pada List 2D"
      ],
      "metadata": {
        "id": "AKwytpbYl5gh"
      }
    },
    {
      "cell_type": "code",
      "source": [
        "A = [[1, 2, 3], [4, 5, 6]]\n",
        "B = [[7, 8, 9], [10, 11, 12]]\n",
        "C = []\n",
        "\n",
        "for i in range(len(A)):\n",
        "    baris = []\n",
        "    for j in range(len(A[0])):\n",
        "        baris.append(A[i][j] + B[i][j])\n",
        "    C.append(baris)\n",
        "\n",
        "print(C)\n"
      ],
      "metadata": {
        "colab": {
          "base_uri": "https://localhost:8080/"
        },
        "id": "pYnHrQoOl9z_",
        "outputId": "986107e4-c3ea-43cc-b34d-32c817900b4d"
      },
      "execution_count": null,
      "outputs": [
        {
          "output_type": "stream",
          "name": "stdout",
          "text": [
            "[[8, 10, 12], [14, 16, 18]]\n"
          ]
        }
      ]
    },
    {
      "cell_type": "markdown",
      "source": [
        "Praktikum 06 - Studi Kasus: Pengelolaan Nilai Mahasiswa"
      ],
      "metadata": {
        "id": "cxs8mVIgnI3i"
      }
    },
    {
      "cell_type": "code",
      "source": [
        "nilai = [\n",
        "    [80, 90, 85],\n",
        "    [70, 75, 80],\n",
        "    [88, 92, 84]\n",
        "]\n",
        "\n",
        "for i, baris in enumerate(nilai, start=1):\n",
        "    rata = sum(baris) / len(baris)\n",
        "    print(f\"Rata-rata mahasiswa {i}: {rata:.2f}\")"
      ],
      "metadata": {
        "colab": {
          "base_uri": "https://localhost:8080/"
        },
        "id": "MZyQR-h9nTFZ",
        "outputId": "eb80400e-117b-408d-ceda-0c5d828b6954"
      },
      "execution_count": null,
      "outputs": [
        {
          "output_type": "stream",
          "name": "stdout",
          "text": [
            "Rata-rata mahasiswa 1: 85.00\n",
            "Rata-rata mahasiswa 2: 75.00\n",
            "Rata-rata mahasiswa 3: 88.00\n"
          ]
        }
      ]
    },
    {
      "cell_type": "markdown",
      "source": [
        "Penugasan 3 - Akses Elemen List"
      ],
      "metadata": {
        "id": "El84aEKwoW7Y"
      }
    },
    {
      "cell_type": "code",
      "source": [
        "mahasiswa = [\"Aisa\", \"Aini\", \"Annisa\", \"Sean\", \"Kyla\"]\n",
        "\n",
        "print(\"Nama pertama:\", mahasiswa[0])\n",
        "print(\"Nama terakhir:\", mahasiswa[-1])\n",
        "print(\"Nama pada indeks ke-2:\", mahasiswa[2])\n"
      ],
      "metadata": {
        "colab": {
          "base_uri": "https://localhost:8080/"
        },
        "id": "2Ir5YcUPodJ4",
        "outputId": "000b2f98-2d67-4074-b2b7-efa0152d4815"
      },
      "execution_count": null,
      "outputs": [
        {
          "output_type": "stream",
          "name": "stdout",
          "text": [
            "Nama pertama: Aisa\n",
            "Nama terakhir: Kyla\n",
            "Nama pada indeks ke-2: Annisa\n"
          ]
        }
      ]
    },
    {
      "cell_type": "markdown",
      "source": [
        "Penugasan 4 - Operasi Dasar List"
      ],
      "metadata": {
        "id": "aBK9f_xbppvy"
      }
    },
    {
      "cell_type": "code",
      "source": [
        "nilai = [70, 75, 80]\n",
        "\n",
        "nilai[2] = 85\n",
        "nilai.append(90)\n",
        "nilai.remove(70)\n",
        "\n",
        "print(\"Hasil akhir:\", nilai)\n"
      ],
      "metadata": {
        "colab": {
          "base_uri": "https://localhost:8080/"
        },
        "id": "s9n9julNvrbw",
        "outputId": "1492d22b-6b87-4b4e-feea-de2d35b966ca"
      },
      "execution_count": null,
      "outputs": [
        {
          "output_type": "stream",
          "name": "stdout",
          "text": [
            "Hasil akhir: [75, 85, 90]\n"
          ]
        }
      ]
    },
    {
      "cell_type": "markdown",
      "source": [
        "Penugasan 5 - Slicing List"
      ],
      "metadata": {
        "id": "0NwyxBWU4FQT"
      }
    },
    {
      "cell_type": "code",
      "source": [
        "angka = list(range(1,11))\n",
        "\n",
        "print(\"3 elemen pertama:\", angka[:3])\n",
        "print(\"4 elemen terakhir:\", angka[-4:])\n",
        "print(\"Elemen dengan indeks genap:\", angka[1::2])\n"
      ],
      "metadata": {
        "colab": {
          "base_uri": "https://localhost:8080/"
        },
        "id": "RmZXe0UE4NB9",
        "outputId": "32561a28-b89b-43a7-db84-49485892fbd7"
      },
      "execution_count": null,
      "outputs": [
        {
          "output_type": "stream",
          "name": "stdout",
          "text": [
            "3 elemen pertama: [1, 2, 3]\n",
            "4 elemen terakhir: [7, 8, 9, 10]\n",
            "Elemen dengan indeks genap: [2, 4, 6, 8, 10]\n"
          ]
        }
      ]
    },
    {
      "cell_type": "markdown",
      "source": [
        "Penugasan 6 - List 2D Matriks"
      ],
      "metadata": {
        "id": "_5y0OVVn5yxI"
      }
    },
    {
      "cell_type": "code",
      "source": [
        "matriks = [\n",
        "    [1, 2, 3],\n",
        "    [4, 5, 6]\n",
        "]\n",
        "\n",
        "print(\"Baris pertama kolom kedua:\", matriks[0][1])\n",
        "print(\"Baris kedua kolom ketiga:\", matriks[1][2])\n",
        "print(\"Seluruh baris pertama:\", matriks[0])\n"
      ],
      "metadata": {
        "id": "xa13H0DQ586X",
        "colab": {
          "base_uri": "https://localhost:8080/"
        },
        "outputId": "c3c77e6b-67f3-488f-e16c-bcafd2b58336"
      },
      "execution_count": null,
      "outputs": [
        {
          "output_type": "stream",
          "name": "stdout",
          "text": [
            "Baris pertama kolom kedua: 2\n",
            "Baris kedua kolom ketiga: 6\n",
            "Seluruh baris pertama: [1, 2, 3]\n"
          ]
        }
      ]
    },
    {
      "cell_type": "markdown",
      "source": [
        "Penugasan 7 - Operasi Matriks 2D"
      ],
      "metadata": {
        "id": "kHtlbHX4THRw"
      }
    },
    {
      "cell_type": "code",
      "source": [
        "A = [\n",
        "    [1, 2],\n",
        "    [3, 4]\n",
        "]\n",
        "\n",
        "B = [\n",
        "    [5, 6],\n",
        "    [7, 8]\n",
        "]\n",
        "\n",
        "hasil = [\n",
        "    [A[0][0] + B[0][0], A[0][1] + B[0][1]],\n",
        "    [A[1][0] + B[1][0], A[1][1] + B[1][1]]\n",
        "]\n",
        "\n",
        "print(\"Matriks A:\", A)\n",
        "print(\"Matriks B:\", B)\n",
        "print(\"Hasil penjumlahan:\", hasil)\n"
      ],
      "metadata": {
        "colab": {
          "base_uri": "https://localhost:8080/"
        },
        "id": "S__PSHPrTMdc",
        "outputId": "03571662-4b59-47ca-a5d3-6d2a634bf1f8"
      },
      "execution_count": null,
      "outputs": [
        {
          "output_type": "stream",
          "name": "stdout",
          "text": [
            "Matriks A: [[1, 2], [3, 4]]\n",
            "Matriks B: [[5, 6], [7, 8]]\n",
            "Hasil penjumlahan: [[6, 8], [10, 12]]\n"
          ]
        }
      ]
    },
    {
      "cell_type": "markdown",
      "source": [
        "Penugasan 8 - Rata-rata Nilai Mahasiswa"
      ],
      "metadata": {
        "id": "reobmuQZgQ-s"
      }
    },
    {
      "cell_type": "code",
      "source": [
        "nilai = [\n",
        "    [75, 80, 85],  # Mahasiswa 1\n",
        "    [60, 70, 65],  # Mahasiswa 2\n",
        "    [90, 95, 92]   # Mahasiswa 3\n",
        "]\n",
        "\n",
        "for i in range(len(nilai)):\n",
        "    rata = sum(nilai[i]) / len(nilai[i])\n",
        "    print(\"Rata-rata mahasiswa ke-\", i+1, \"=\", rata)\n"
      ],
      "metadata": {
        "colab": {
          "base_uri": "https://localhost:8080/"
        },
        "id": "upDToMI5gXNK",
        "outputId": "1d3b797f-7347-4f83-d1ab-118be32c3fc3"
      },
      "execution_count": null,
      "outputs": [
        {
          "output_type": "stream",
          "name": "stdout",
          "text": [
            "Rata-rata mahasiswa ke- 1 = 80.0\n",
            "Rata-rata mahasiswa ke- 2 = 65.0\n",
            "Rata-rata mahasiswa ke- 3 = 92.33333333333333\n"
          ]
        }
      ]
    },
    {
      "cell_type": "markdown",
      "source": [
        "Penugasan 9 -Studi Kasus-Data Kasus"
      ],
      "metadata": {
        "id": "uBS1d2J9g1K4"
      }
    },
    {
      "cell_type": "code",
      "source": [
        "stok = [\n",
        "    [\"Buku\", 20],\n",
        "    [\"Pulpen\", 35],\n",
        "    [\"Penghapus\", 15]\n",
        "]\n",
        "\n",
        "print(\"Daftar Stok Barang:\")\n",
        "for item in stok:\n",
        "    print(item[0], \":\", item[1])\n",
        "\n",
        "terbanyak = stok[0]\n",
        "for item in stok:\n",
        "    if item[1] > terbanyak[1]:\n",
        "        terbanyak = item\n",
        "\n",
        "print(\"\\nBarang dengan stok terbanyak:\", terbanyak[0], \"(\", terbanyak[1], \")\")\n"
      ],
      "metadata": {
        "colab": {
          "base_uri": "https://localhost:8080/"
        },
        "id": "OerXcxNhg7xZ",
        "outputId": "3da78782-8e61-44a3-8bda-3a6a4e050555"
      },
      "execution_count": null,
      "outputs": [
        {
          "output_type": "stream",
          "name": "stdout",
          "text": [
            "Daftar Stok Barang:\n",
            "Buku : 20\n",
            "Pulpen : 35\n",
            "Penghapus : 15\n",
            "\n",
            "Barang dengan stok terbanyak: Pulpen ( 35 )\n"
          ]
        }
      ]
    }
  ]
}