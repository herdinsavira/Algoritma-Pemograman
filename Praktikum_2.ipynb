{
  "cells": [
    {
      "cell_type": "markdown",
      "metadata": {
        "id": "view-in-github",
        "colab_type": "text"
      },
      "source": [
        "<a href=\"https://colab.research.google.com/github/herdinsavira/Algoritma-Pemograman/blob/main/Praktikum_2.ipynb\" target=\"_parent\"><img src=\"https://colab.research.google.com/assets/colab-badge.svg\" alt=\"Open In Colab\"/></a>"
      ]
    },
    {
      "cell_type": "markdown",
      "source": [
        "\n",
        "\n",
        "*  Praktikum 1 - Pengenalan variabel dan tipe data\n",
        "\n"
      ],
      "metadata": {
        "id": "KH0Jf9t2X8xr"
      }
    },
    {
      "cell_type": "code",
      "source": [
        "# integer\n",
        "umur = 20\n",
        "print(\"Umur:\", umur, \"→\", type(umur))\n",
        "\n",
        "# float\n",
        "tinggi = 170.5\n",
        "print(\"Tinggi:\", tinggi, \"→\", type(tinggi))\n",
        "\n",
        "# String\n",
        "nama = \"Andi\"\n",
        "print(\"Nama:\", nama, \"→\", type(nama))\n",
        "\n",
        "# Boolean\n",
        "is_mahasiswa = True\n",
        "print(\"Status Mahasiswa:\", is_mahasiswa, \"→\", type(is_mahasiswa))\n",
        "\n",
        "# List,\n",
        "nilai = [80, 85, 90]\n",
        "print(\"Nilai:\", nilai, \"→\", type(nilai))\n",
        "\n",
        "# Tuple\n",
        "koordinat = (10, 20)\n",
        "print(\"Koordinat:\", koordinat, \"→\", type(koordinat))\n",
        "\n",
        "# Dictionary\n",
        "mahasiswa = {\"nama\": \"Andi\", \"umur\": 20, \"prodi\": \"TRK\"}\n",
        "print(\"Data Mahasiswa:\", mahasiswa, \"→\", type(mahasiswa))\n",
        "\n",
        "# Set\n",
        "hobi = (\"membaca\", \"olahraga\", \"musik\")\n",
        "print(\"Hobi:\", hobi, \"→\", type(hobi))"
      ],
      "metadata": {
        "colab": {
          "base_uri": "https://localhost:8080/"
        },
        "id": "LJjtynyVYCq2",
        "outputId": "e61bee37-4f8a-4214-e4f4-e22882aa1ed2"
      },
      "execution_count": null,
      "outputs": [
        {
          "output_type": "stream",
          "name": "stdout",
          "text": [
            "Umur: 20 → <class 'int'>\n",
            "Tinggi: 170.5 → <class 'float'>\n",
            "Nama: Andi → <class 'str'>\n",
            "Status Mahasiswa: True → <class 'bool'>\n",
            "Nilai: [80, 85, 90] → <class 'list'>\n",
            "Koordinat: (10, 20) → <class 'tuple'>\n",
            "Data Mahasiswa: {'nama': 'Andi', 'umur': 20, 'prodi': 'TRK'} → <class 'dict'>\n",
            "Hobi: ('membaca', 'olahraga', 'musik') → <class 'tuple'>\n"
          ]
        }
      ]
    },
    {
      "cell_type": "markdown",
      "source": [
        "\n",
        "\n",
        "*   Praktikum 02 - Input dan Output Dasar\n",
        "\n"
      ],
      "metadata": {
        "id": "E9leqq5Lct7p"
      }
    },
    {
      "cell_type": "code",
      "source": [
        "# Input string\n",
        "nama = input(\"Masukkan nama Anda: \")\n",
        "\n",
        "# Input integer\n",
        "umur = int(input(\"Masukan umur Anda: \"))\n",
        "\n",
        "# Input float\n",
        "tinggi = float(input(\"Masukkkan tinggi badan (cm) : \"))\n",
        "\n",
        "# Output dengan format()\n",
        "print(\"Halo {0}, umur Anda {1} tahun, tinggi {2} cm\". format(nama, umur, tinggi))\n",
        "\n",
        "# Output dengan f-string\n",
        "print(f\"Halo {nama}, umur Anda {umur} tahun, tinggi {tinggi} cm\")\n"
      ],
      "metadata": {
        "colab": {
          "base_uri": "https://localhost:8080/"
        },
        "id": "TwJYQzyGc2as",
        "outputId": "45943826-8970-4791-f2ac-f208bcc083a4"
      },
      "execution_count": 12,
      "outputs": [
        {
          "output_type": "stream",
          "name": "stdout",
          "text": [
            "Masukkan nama Anda: Herdin\n",
            "Masukan umur Anda: 19\n",
            "Masukkkan tinggi badan (cm) : 169\n",
            "Halo Herdin, umur Anda 19 tahun, tinggi 169.0 cm\n",
            "Halo Herdin, umur Anda 19 tahun, tinggi 169.0 cm\n"
          ]
        }
      ]
    },
    {
      "cell_type": "markdown",
      "source": [
        "\n",
        "\n",
        "*   Praktikum 03 - Operator Aritmatika\n",
        "\n"
      ],
      "metadata": {
        "id": "9UNqNmG02nO8"
      }
    },
    {
      "cell_type": "code",
      "source": [
        "a = 15\n",
        "b = 4\n",
        "\n",
        "print(\"a + b =\", a + b)\n",
        "print(\"a - b =\", a - b)\n",
        "print(\"a * b =\", a * b)\n",
        "print(\"a / b =\", a / b)\n",
        "print(\"a // b =\", a // b)\n",
        "print(\"a % b =\", a % b)\n",
        "print(\"a ** b =\", a ** b)\n"
      ],
      "metadata": {
        "colab": {
          "base_uri": "https://localhost:8080/"
        },
        "id": "2wVszKF22wOB",
        "outputId": "866eb708-ea79-4ef8-c7ec-09ab4ac93ba6"
      },
      "execution_count": null,
      "outputs": [
        {
          "output_type": "stream",
          "name": "stdout",
          "text": [
            "a + b = 19\n",
            "a - b = 11\n",
            "a * b = 60\n",
            "a / b = 3.75\n",
            "a // b = 3\n",
            "a % b = 3\n",
            "a ** b = 50625\n"
          ]
        }
      ]
    },
    {
      "cell_type": "markdown",
      "source": [
        "\n",
        "\n",
        "*  Prktikum 04 - Operator Relasional\n",
        "\n"
      ],
      "metadata": {
        "id": "-NFhyTwA4Rfz"
      }
    },
    {
      "cell_type": "code",
      "source": [
        "x = 10\n",
        "y = 20\n",
        "\n",
        "print(\"x == y :\", x == y)\n",
        "print(\"x != y :\", x!= y)\n",
        "print(\"x < y :\", x < y)\n",
        "print(\"x > y :\", x > y)\n",
        "print(\"x <= y :\", x <= y)\n",
        "print(\"x >= y :\", x >= y)\n"
      ],
      "metadata": {
        "colab": {
          "base_uri": "https://localhost:8080/"
        },
        "id": "Zw0cDevO4aM1",
        "outputId": "c0689db1-22c2-4656-d28e-19ec3e12811f"
      },
      "execution_count": null,
      "outputs": [
        {
          "output_type": "stream",
          "name": "stdout",
          "text": [
            "x == y : False\n",
            "x != y : True\n",
            "x < y : True\n",
            "x > y : False\n",
            "x <= y : True\n",
            "x >= y : False\n"
          ]
        }
      ]
    },
    {
      "cell_type": "markdown",
      "source": [
        "\n",
        "\n",
        "*   Praktikum 05 - Operator Logika dengan Studi Kasus Nyata\n",
        "\n"
      ],
      "metadata": {
        "id": "pDbP9RMj5pKJ"
      }
    },
    {
      "cell_type": "code",
      "source": [
        "# Operator Logika Dasar\n",
        "a = True\n",
        "b = False\n",
        "\n",
        "print(\"a and b =\", a and b)\n",
        "print(\"a or b =\", a or b)\n",
        "print(\"not a =\", not a)\n",
        "\n",
        "#Studi kasus nyata: kelulusan\n",
        "nilai = int(input(\"Mahsukkan nilai ujian:\" ))\n",
        "hadir = int(input(\"Masukkan jumlah kehadiran: \"))\n",
        "\n",
        "lulus_nilai = nilai >= 60\n",
        "lulus_hadir = hadir >= 12\n",
        "\n",
        "if lulus_nilai and lulus_hadir:\n",
        "  print(\"Status: LULUS\")\n",
        "else:\n",
        "  print(\"Status: TIDAK LULUS\")"
      ],
      "metadata": {
        "colab": {
          "base_uri": "https://localhost:8080/"
        },
        "id": "tNSRUME_5zWQ",
        "outputId": "3b94c62b-08fd-4a6e-cd35-a1914901729b"
      },
      "execution_count": null,
      "outputs": [
        {
          "output_type": "stream",
          "name": "stdout",
          "text": [
            "a and b = False\n",
            "a or b = True\n",
            "not a = False\n",
            "Mahsukkan nilai ujian:100\n",
            "Masukkan jumlah kehadiran: 100\n",
            "Status: LULUS\n"
          ]
        }
      ]
    },
    {
      "cell_type": "markdown",
      "source": [
        "\n",
        "\n",
        "*  Praktikum 06 - Operator Kasir Sederhana\n",
        "\n"
      ],
      "metadata": {
        "id": "8NDVxlay7-8w"
      }
    },
    {
      "cell_type": "code",
      "source": [
        "barang = input(\"Masukkan nama barang: \")\n",
        "harga = float(input(\"Masukkan harga barang: \"))\n",
        "jumlah = int(input(\"Masukkan jumlah barang: \"))\n",
        "\n",
        "total = harga * jumlah\n",
        "\n",
        "# Aturan diskon\n",
        "if total >= 500000:\n",
        "    diskon = 0.2\n",
        "elif total >= 250000:\n",
        "    diskon = 0.1\n",
        "else:\n",
        "    diskon = 0\n",
        "\n",
        "potongan = total * diskon\n",
        "bayar = total - potongan\n",
        "\n",
        "print(\"\\n===== Struk Belanja =====\")\n",
        "print(f\"Barang : {barang}\")\n",
        "print(f\"Jumlah : {jumlah}\")\n",
        "print(f\"Total : Rp {total}\")\n",
        "print(f\"Diskon : {diskon * 100}%\")\n",
        "print(f\"Bayar : Rp {bayar}\")\n"
      ],
      "metadata": {
        "id": "po_qid7H8Kf3",
        "colab": {
          "base_uri": "https://localhost:8080/"
        },
        "outputId": "d1698061-ccaa-4884-fa42-8df0286b6e50"
      },
      "execution_count": 11,
      "outputs": [
        {
          "output_type": "stream",
          "name": "stdout",
          "text": [
            "Masukkan nama barang: celana\n",
            "Masukkan harga barang: 70000\n",
            "Masukkan jumlah barang: 3\n",
            "\n",
            "===== Struk Belanja =====\n",
            "Barang : celana\n",
            "Jumlah : 3\n",
            "Total : Rp 210000.0\n",
            "Diskon : 0%\n",
            "Bayar : Rp 210000.0\n"
          ]
        }
      ]
    },
    {
      "cell_type": "markdown",
      "source": [
        "\n",
        "\n",
        "*   Penugasan 3 - Identitas Mahasiswa\n",
        "\n"
      ],
      "metadata": {
        "id": "gBNULoSS8u7I"
      }
    },
    {
      "cell_type": "code",
      "source": [
        "nama = input(\"Masukkan nama Anda: \")\n",
        "umur = int(input(\"Masukkan umur Anda: \"))\n",
        "tinggi = float(input(\"Masukkan tinggi badan (cm) : \"))\n",
        "status_aktif = bool(input(\"Apakah Anda mahasiswa aktif? (1 = Ya, 0 = Tidak): \"))\n",
        "\n",
        "print(\"\\n===== Data Mahasiswa =====\")\n",
        "print(f\"Nama          :{nama}\")\n",
        "print(f\"Umur          :{umur} tahun\")\n",
        "print(f\"Tinggi Badan  :{tinggi}\")\n",
        "print(f\"Status_Aktif  :{status_aktif}\")"
      ],
      "metadata": {
        "colab": {
          "base_uri": "https://localhost:8080/"
        },
        "id": "aD4xdz8O80_P",
        "outputId": "9e239313-6412-48ab-e665-a7fac4177e04"
      },
      "execution_count": 14,
      "outputs": [
        {
          "output_type": "stream",
          "name": "stdout",
          "text": [
            "Masukkan nama Anda: Herdin\n",
            "Masukkan umur Anda: 19\n",
            "Masukkan tinggi badan (cm) : 190\n",
            "Apakah Anda mahasiswa aktif? (1 = Ya, 0 = Tidak): 1\n",
            "\n",
            "===== Data Mahasiswa =====\n",
            "Nama          :Herdin\n",
            "Umur          :19 tahun\n",
            "Tinggi Badan  :190.0\n",
            "Status_Aktif  :True\n"
          ]
        }
      ]
    },
    {
      "cell_type": "markdown",
      "source": [
        "\n",
        "\n",
        "*   Penugasan 4 - Operasi Aritmatika\n",
        "\n"
      ],
      "metadata": {
        "id": "p-PgeZGaDJuG"
      }
    },
    {
      "cell_type": "code",
      "source": [
        "bil1 = int(input(\"Masukkan bilangan pertama: \"))\n",
        "bil2 = int(input(\"Masukkan bilangan kedua: \"))\n",
        "\n",
        "print(\"\\n===== Hasil Operasi Aritmatika =====\")\n",
        "print(f\"Penjumlahan (+)  : {bil1 + bil2}\")\n",
        "print(f\"Pengurangan (-)  : {bil1 - bil2}\")\n",
        "print(f\"Perkalian (×)    : {bil1 * bil2}\")\n",
        "print(f\"Pembagian (/)    : {bil1 / bil2}\")\n",
        "print(f\"Sisa Bagi (%)    : {bil1 % bil2}\")\n",
        "print(f\"Pangkat ()       : {bil1 ** bil2}\")"
      ],
      "metadata": {
        "colab": {
          "base_uri": "https://localhost:8080/"
        },
        "id": "_sYwBtYKDYVG",
        "outputId": "0cd85a67-a471-4ce5-b487-857872cabf31"
      },
      "execution_count": 15,
      "outputs": [
        {
          "output_type": "stream",
          "name": "stdout",
          "text": [
            "Masukkan bilangan pertama: 21\n",
            "Masukkan bilangan kedua: 43\n",
            "\n",
            "===== Hasil Operasi Aritmatika =====\n",
            "Penjumlahan (+)  : 64\n",
            "Pengurangan (-)  : -22\n",
            "Perkalian (×)    : 903\n",
            "Pembagian (/)    : 0.4883720930232558\n",
            "Sisa Bagi (%)    : 21\n",
            "Pangkat ()       : 716852284415660510488171761482895729863004676631934290061\n"
          ]
        }
      ]
    },
    {
      "cell_type": "markdown",
      "source": [
        "\n",
        "\n",
        "*   Penugasan 5 - Konversi Nilai\n",
        "\n"
      ],
      "metadata": {
        "id": "1bjRrVyMHV7o"
      }
    },
    {
      "cell_type": "code",
      "source": [
        "nilai = float(input(\"Masukkan nilai desimal Anda: \"))\n",
        "\n",
        "print(\"\\n===== Hasil Konversi Nilai =====\")\n",
        "print(f\"Nilai dalam bentuk integer : {int(nilai)}\")\n",
        "print(f\"Nilai dalam bentuk string  : {str(nilai)}\")\n",
        "print(f\"Nilai dibulatkan 2 digit   : {round(nilai, 2)}\")"
      ],
      "metadata": {
        "colab": {
          "base_uri": "https://localhost:8080/"
        },
        "id": "XLY52mp9HnnP",
        "outputId": "04180f6d-8f1d-4b37-a3de-be409e1dbaea"
      },
      "execution_count": 18,
      "outputs": [
        {
          "output_type": "stream",
          "name": "stdout",
          "text": [
            "Masukkan nilai desimal Anda: 98.564\n",
            "\n",
            "===== Hasil Konversi Nilai =====\n",
            "Nilai dalam bentuk integer : 98\n",
            "Nilai dalam bentuk string  : 98.564\n",
            "Nilai dibulatkan 2 digit   : 98.56\n"
          ]
        }
      ]
    },
    {
      "cell_type": "markdown",
      "source": [
        "\n",
        "\n",
        "*  Penugasan 6 - Operator Relasional\n",
        "\n"
      ],
      "metadata": {
        "id": "yDX-TLyoINja"
      }
    },
    {
      "cell_type": "code",
      "source": [
        "bil1 = int(input(\"Masukkan bilangan pertama: \"))\n",
        "bil2 = int(input(\"Masukkan bilangan kedua: \"))\n",
        "\n",
        "print(\"\\n===== Hasil Perbandingan =====\")\n",
        "print(f\"{bil1} == {bil2} : {bil1 == bil2}\")\n",
        "print(f\"{bil1} != {bil2} : {bil1 != bil2}\")\n",
        "print(f\"{bil1} > {bil2}  : {bil1 > bil2}\")\n",
        "print(f\"{bil1} < {bil2}  : {bil1 < bil2}\")\n",
        "print(f\"{bil1} >= {bil2} : {bil1 >= bil2}\")\n",
        "print(f\"{bil1} <= {bil2} : {bil1 <= bil2}\")"
      ],
      "metadata": {
        "colab": {
          "base_uri": "https://localhost:8080/"
        },
        "id": "wYaiILWwIbI_",
        "outputId": "6295d39b-e531-4c24-c6d8-7853c97d8bb8"
      },
      "execution_count": 19,
      "outputs": [
        {
          "output_type": "stream",
          "name": "stdout",
          "text": [
            "Masukkan bilangan pertama: 45\n",
            "Masukkan bilangan kedua: 87\n",
            "\n",
            "===== Hasil Perbandingan =====\n",
            "45 == 87 : False\n",
            "45 != 87 : True\n",
            "45 > 87  : False\n",
            "45 < 87  : True\n",
            "45 >= 87 : False\n",
            "45 <= 87 : True\n"
          ]
        }
      ]
    }
  ],
  "metadata": {
    "colab": {
      "provenance": [],
      "include_colab_link": true
    },
    "kernelspec": {
      "display_name": "Python 3",
      "name": "python3"
    }
  },
  "nbformat": 4,
  "nbformat_minor": 0
}