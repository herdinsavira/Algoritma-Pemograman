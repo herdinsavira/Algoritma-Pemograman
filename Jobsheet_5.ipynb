{
  "nbformat": 4,
  "nbformat_minor": 0,
  "metadata": {
    "colab": {
      "provenance": [],
      "authorship_tag": "ABX9TyNi0W7PtjLo5rITQMmJJmTF",
      "include_colab_link": true
    },
    "kernelspec": {
      "name": "python3",
      "display_name": "Python 3"
    },
    "language_info": {
      "name": "python"
    }
  },
  "cells": [
    {
      "cell_type": "markdown",
      "metadata": {
        "id": "view-in-github",
        "colab_type": "text"
      },
      "source": [
        "<a href=\"https://colab.research.google.com/github/herdinsavira/Algoritma-Pemograman/blob/main/Jobsheet_5.ipynb\" target=\"_parent\"><img src=\"https://colab.research.google.com/assets/colab-badge.svg\" alt=\"Open In Colab\"/></a>"
      ]
    },
    {
      "cell_type": "markdown",
      "source": [
        "Praktikum 01 - Indexing dan Slicing"
      ],
      "metadata": {
        "id": "tH1V89qHrwvY"
      }
    },
    {
      "cell_type": "code",
      "execution_count": null,
      "metadata": {
        "colab": {
          "base_uri": "https://localhost:8080/"
        },
        "id": "-eU6hq-trtRh",
        "outputId": "f64b43a3-2a92-4cb1-e7c8-14ebf09603e8"
      },
      "outputs": [
        {
          "output_type": "stream",
          "name": "stdout",
          "text": [
            "P\n",
            "Politeknik \n",
            "Semarang\n"
          ]
        }
      ],
      "source": [
        "teks = \"Politeknik Negeri Semarang\"\n",
        "print(teks[0])      # 'p'\n",
        "print(teks[0:11])   # 'Politeknik'\n",
        "print(teks[-8:])    # 'Semarang'"
      ]
    },
    {
      "cell_type": "markdown",
      "source": [
        "Praktikum 02 - Method Bawaan String"
      ],
      "metadata": {
        "id": "6dAsJurezTFe"
      }
    },
    {
      "cell_type": "code",
      "source": [
        "teks = \"Politeknik Negeri Semarang\"\n",
        "print(teks.upper())\n",
        "print(teks.lower())\n",
        "print(teks.title())\n",
        "print(teks.strip())\n",
        "print(teks.split(\" \"))\n",
        "print(\"-\".join([\"Poiteknik\", \"Negeri\", \"Semarang\"]))"
      ],
      "metadata": {
        "colab": {
          "base_uri": "https://localhost:8080/"
        },
        "id": "DAUgMr7szYHV",
        "outputId": "ebe3d980-0e5a-4df0-b0ab-49377cca19e4"
      },
      "execution_count": null,
      "outputs": [
        {
          "output_type": "stream",
          "name": "stdout",
          "text": [
            "POLITEKNIK NEGERI SEMARANG\n",
            "politeknik negeri semarang\n",
            "Politeknik Negeri Semarang\n",
            "Politeknik Negeri Semarang\n",
            "['Politeknik', 'Negeri', 'Semarang']\n",
            "Poiteknik-Negeri-Semarang\n"
          ]
        }
      ]
    },
    {
      "cell_type": "markdown",
      "source": [
        "Praktikum 03 - Validasi Password"
      ],
      "metadata": {
        "id": "jH0GehE40sSB"
      }
    },
    {
      "cell_type": "code",
      "source": [
        "password = input(\"Masukkan password: \")\n",
        "\n",
        "if len(password) >= 8:\n",
        "    print(\"Password valid\")\n",
        "else:\n",
        "    print(\"Password terlalu pendek\")"
      ],
      "metadata": {
        "colab": {
          "base_uri": "https://localhost:8080/"
        },
        "id": "Z0qQyPhw0xNw",
        "outputId": "6cc45d66-7fd7-4d8e-a2cc-6023204240dd"
      },
      "execution_count": 20,
      "outputs": [
        {
          "output_type": "stream",
          "name": "stdout",
          "text": [
            "Masukkan password: abc\n",
            "Password terlalu pendek\n"
          ]
        }
      ]
    },
    {
      "cell_type": "markdown",
      "source": [
        "Praktikum 04 - String Formatting dengan F-String"
      ],
      "metadata": {
        "id": "DB6H2s5F1Ylt"
      }
    },
    {
      "cell_type": "code",
      "source": [
        "nama = input(\"Masukkan Nama: \")\n",
        "umur = int(input(\"Masukkan Umur: \"))\n",
        "\n",
        "print(f\"Nama Saya {nama}, umur {umur} tahun.\")"
      ],
      "metadata": {
        "colab": {
          "base_uri": "https://localhost:8080/"
        },
        "id": "MhhpJORl14z_",
        "outputId": "20eecf06-ae87-4702-c6fa-502c714423f2"
      },
      "execution_count": null,
      "outputs": [
        {
          "output_type": "stream",
          "name": "stdout",
          "text": [
            "Masukkan Nama: Budi\n",
            "Masukkan Umur: 21\n",
            "Nama Saya Budi, umur 21 tahun.\n"
          ]
        }
      ]
    },
    {
      "cell_type": "markdown",
      "source": [
        "Praktikum 05 - Operasi dalam F-String"
      ],
      "metadata": {
        "id": "DLEmJCDM2dYL"
      }
    },
    {
      "cell_type": "code",
      "source": [
        "a = int(input(\"Masukkan nilai a: \"))\n",
        "b = int(input(\"Masukkan nilai b: \"))\n",
        "\n",
        "print(f\"Hasil penjumlahan {a}+{b} = {a+b}\")\n",
        "print(f\"Hasil pembagian {a}/{b} = {a/b:.2f}\")"
      ],
      "metadata": {
        "colab": {
          "base_uri": "https://localhost:8080/"
        },
        "id": "_5oW1qhP2lQj",
        "outputId": "dd5f7de4-b7fa-4a10-8413-6e7998a47c51"
      },
      "execution_count": null,
      "outputs": [
        {
          "output_type": "stream",
          "name": "stdout",
          "text": [
            "Masukkan nilai a: 10\n",
            "Masukkan nilai b: 3\n",
            "Hasil penjumlahan 10+3 = 13\n",
            "Hasil pembagian 10/3 = 3.33\n"
          ]
        }
      ]
    },
    {
      "cell_type": "markdown",
      "source": [
        "Praktikum 06 - Casting String"
      ],
      "metadata": {
        "id": "a13G6EKk3M3b"
      }
    },
    {
      "cell_type": "code",
      "source": [
        "angka = 123\n",
        "teks = \"456\"\n",
        "\n",
        "print(\"Nilai: \" + str(angka))\n",
        "print(int(teks) + 10)"
      ],
      "metadata": {
        "colab": {
          "base_uri": "https://localhost:8080/"
        },
        "id": "LLRyenb43ReQ",
        "outputId": "2e633966-0bcf-4952-f60a-61d0c1e6a425"
      },
      "execution_count": null,
      "outputs": [
        {
          "output_type": "stream",
          "name": "stdout",
          "text": [
            "Nilai: 123\n",
            "466\n"
          ]
        }
      ]
    },
    {
      "cell_type": "markdown",
      "source": [
        "Praktikum 07 - Studi Kasus: Analisis Kalimat"
      ],
      "metadata": {
        "id": "CevEbeYO3miv"
      }
    },
    {
      "cell_type": "code",
      "source": [
        "kalimat = \"Saya kuliah di Politeknik Negeri Semarang\"\n",
        "daftar_kata = kalimat.split(\" \")\n",
        "\n",
        "print(f\"Jumlah kata: {len(daftar_kata)}\")\n",
        "for i, kata in enumerate(daftar_kata, start=1):\n",
        "    print(i, kata)"
      ],
      "metadata": {
        "colab": {
          "base_uri": "https://localhost:8080/"
        },
        "id": "tab8Bwoc3srl",
        "outputId": "146b6aa6-a07f-4821-b28d-fddd3e5ac5ba"
      },
      "execution_count": null,
      "outputs": [
        {
          "output_type": "stream",
          "name": "stdout",
          "text": [
            "Jumlah kata: 6\n",
            "1 Saya\n",
            "2 kuliah\n",
            "3 di\n",
            "4 Politeknik\n",
            "5 Negeri\n",
            "6 Semarang\n"
          ]
        }
      ]
    },
    {
      "cell_type": "markdown",
      "source": [
        "Penugasan 3 - indexing dan slicing"
      ],
      "metadata": {
        "id": "6cwvkF53dq2d"
      }
    },
    {
      "cell_type": "code",
      "source": [
        "teks = \"Poloteknik Negeri Semarang\"\n",
        "\n",
        "print(\"Huruf Pertama:\", teks[0])\n",
        "print(\"Huruf Terakhir:\", teks [-1])\n",
        "print(\"Kata 'Negeri':\", teks[11:17])"
      ],
      "metadata": {
        "colab": {
          "base_uri": "https://localhost:8080/"
        },
        "id": "2HkGFePCdws_",
        "outputId": "a3dcfce6-1efe-4791-949e-b01f3b9f41a5"
      },
      "execution_count": 28,
      "outputs": [
        {
          "output_type": "stream",
          "name": "stdout",
          "text": [
            "Huruf Pertama: P\n",
            "Huruf Terakhir: g\n",
            "Kata 'Negeri': Negeri\n"
          ]
        }
      ]
    },
    {
      "cell_type": "markdown",
      "source": [
        "Penugasan 4 - Manipulasi String"
      ],
      "metadata": {
        "id": "pZSbNFAFid8L"
      }
    },
    {
      "cell_type": "code",
      "source": [
        "kalimat = input(\"Masukkan kalimat: \")\n",
        "\n",
        "print(\"Huruf Kapital:\", kalimat.upper())\n",
        "print(\"Huruf Kecil:\", kalimat.lower())\n",
        "print(\"Panjang Kalimat:\", len(kalimat))"
      ],
      "metadata": {
        "colab": {
          "base_uri": "https://localhost:8080/"
        },
        "id": "75OCyqk8ijiY",
        "outputId": "7e44acb7-37b4-4737-a97e-7896dfbf7817"
      },
      "execution_count": 29,
      "outputs": [
        {
          "output_type": "stream",
          "name": "stdout",
          "text": [
            "Masukkan kalimat: Algoritma dan Pemograman\n",
            "Huruf Kapital: ALGORITMA DAN PEMOGRAMAN\n",
            "Huruf Kecil: algoritma dan pemograman\n",
            "Panjang Kalimat: 24\n"
          ]
        }
      ]
    },
    {
      "cell_type": "markdown",
      "source": [
        "Penugasan 5 - Validasi Username"
      ],
      "metadata": {
        "id": "uj4PmDflpp6Y"
      }
    },
    {
      "cell_type": "code",
      "source": [
        "username = input(\"Masukkan Username: \")\n",
        "\n",
        "if \" \" in username:\n",
        "  print(\"Error: Username tidak boleh mengandung spasi\")\n",
        "else:\n",
        "  print(\"Username valid.\")"
      ],
      "metadata": {
        "colab": {
          "base_uri": "https://localhost:8080/"
        },
        "id": "hyflvdDDp8yx",
        "outputId": "b947e0ff-8d86-4ca0-ce64-95083047c621"
      },
      "execution_count": 24,
      "outputs": [
        {
          "output_type": "stream",
          "name": "stdout",
          "text": [
            "Masukkan Username: herdin savira\n",
            "Error: Username tidak boleh mengandung spasi\n"
          ]
        }
      ]
    },
    {
      "cell_type": "markdown",
      "source": [
        "Penugasan 6 - String Formating dengan F-String"
      ],
      "metadata": {
        "id": "tWsarwQZq5aL"
      }
    },
    {
      "cell_type": "code",
      "source": [
        "nama = input(\"Nama: \")\n",
        "umur = input(\"Umur: \")\n",
        "jurusan = input(\"Jurusan:\")\n",
        "\n",
        "print(f\"\\nNama: {nama}\")\n",
        "print(f\"Umur: {umur} tahun\")\n",
        "print(f\"Jurusan: {jurusan}\")"
      ],
      "metadata": {
        "colab": {
          "base_uri": "https://localhost:8080/"
        },
        "id": "SoPgM_t7q_EE",
        "outputId": "096b7601-2564-41f7-9505-ae6fffc00f48"
      },
      "execution_count": 26,
      "outputs": [
        {
          "output_type": "stream",
          "name": "stdout",
          "text": [
            "Nama: Herdin\n",
            "Umur: 19\n",
            "Jurusan:Teknik Elektro\n",
            "\n",
            "Nama: Herdin\n",
            "Umur: 19 tahun\n",
            "Jurusan: Teknik Elektro\n"
          ]
        }
      ]
    },
    {
      "cell_type": "markdown",
      "source": [
        "Penugasan 7 - Operasi dalam F-String"
      ],
      "metadata": {
        "id": "8ucp26-eriIq"
      }
    },
    {
      "cell_type": "code",
      "source": [
        "a = float(input(\"Masukkan bilangan pertama: \"))\n",
        "b = float(input(\"Masukkan bilangan kedua: \"))\n",
        "\n",
        "print(f\"Hasil Penjumlahan: {a + b}\")\n",
        "print(f\"Hasil Perkalian: {a * b}\")\n",
        "print(f\"Hasil Pembagian: {(a/b):.3f}\")"
      ],
      "metadata": {
        "colab": {
          "base_uri": "https://localhost:8080/"
        },
        "id": "AQ6gewX5rntW",
        "outputId": "5ac3b852-399a-4502-fe46-1a8ef0c8d894"
      },
      "execution_count": 10,
      "outputs": [
        {
          "output_type": "stream",
          "name": "stdout",
          "text": [
            "Masukkan bilangan pertama: 5\n",
            "Masukkan bilangan kedua: 9\n",
            "Hasil Penjumlahan: 14.0\n",
            "Hasil Perkalian: 45.0\n",
            "Hasil Pembagian: 0.556\n"
          ]
        }
      ]
    },
    {
      "cell_type": "markdown",
      "source": [
        "Penugasan 8 - Casting Data"
      ],
      "metadata": {
        "id": "Sp0RwPDDs7D2"
      }
    },
    {
      "cell_type": "code",
      "source": [
        "angka_str = input(\"Masukkan angka (string): \")\n",
        "\n",
        "angka_int = int(angka_str)\n",
        "print(f\"Kuadrat dari {angka_int} adalah {angka_int ** 2}\")\n",
        "\n",
        "angka_float = float(angka_str)\n",
        "print(f\"Angka dalam format float: {angka_float:.2f}\")"
      ],
      "metadata": {
        "colab": {
          "base_uri": "https://localhost:8080/"
        },
        "id": "QkPb9dmEs_Dp",
        "outputId": "49ae649c-194a-4b5f-a28b-74b480625d27"
      },
      "execution_count": 15,
      "outputs": [
        {
          "output_type": "stream",
          "name": "stdout",
          "text": [
            "Masukkan angka (string): 8\n",
            "Kuadrat dari 8 adalah 64\n",
            "Angka dalam format float: 8.00\n"
          ]
        }
      ]
    },
    {
      "cell_type": "markdown",
      "source": [
        "Penugasan 9 - Studi Kasus: Analisis Teks"
      ],
      "metadata": {
        "id": "e3T5hMiduD8X"
      }
    },
    {
      "cell_type": "code",
      "source": [
        "kalimat = input(\"Masukkan kalimat: \")\n",
        "\n",
        "kata_list = kalimat.split()\n",
        "jumlah_kata = len(kata_list)\n",
        "kata_terpanjang = max(kata_list, key=len)\n",
        "kata_urut = sorted(kata_list)\n",
        "\n",
        "print(f\"Jumlah kata: {jumlah_kata}\")\n",
        "print(f\"Kata terpanjang: {kata_terpanjang}\")\n",
        "print(f\"Kata dalam urutan abjad:\", kata_urut)"
      ],
      "metadata": {
        "colab": {
          "base_uri": "https://localhost:8080/"
        },
        "id": "Cl_vhXYSuI7Q",
        "outputId": "90af54ad-f15e-43c3-c087-c7160072c8f4"
      },
      "execution_count": 18,
      "outputs": [
        {
          "output_type": "stream",
          "name": "stdout",
          "text": [
            "Masukkan kalimat: Ayo kita healing\n",
            "Jumlah kata: 3\n",
            "Kata terpanjang: healing\n",
            "Kata dalam urutan abjad: ['Ayo', 'healing', 'kita']\n"
          ]
        }
      ]
    }
  ]
}