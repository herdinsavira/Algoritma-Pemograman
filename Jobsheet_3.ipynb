{
  "nbformat": 4,
  "nbformat_minor": 0,
  "metadata": {
    "colab": {
      "provenance": [],
      "authorship_tag": "ABX9TyNdieJt2iIh+3pIwJTlS3Bp",
      "include_colab_link": true
    },
    "kernelspec": {
      "name": "python3",
      "display_name": "Python 3"
    },
    "language_info": {
      "name": "python"
    }
  },
  "cells": [
    {
      "cell_type": "markdown",
      "metadata": {
        "id": "view-in-github",
        "colab_type": "text"
      },
      "source": [
        "<a href=\"https://colab.research.google.com/github/herdinsavira/Algoritma-Pemograman/blob/main/Jobsheet_3.ipynb\" target=\"_parent\"><img src=\"https://colab.research.google.com/assets/colab-badge.svg\" alt=\"Open In Colab\"/></a>"
      ]
    },
    {
      "cell_type": "markdown",
      "source": [
        "\n",
        "*   Praktikum 01 - If Sederhana\n"
      ],
      "metadata": {
        "id": "s8kk045zapk0"
      }
    },
    {
      "cell_type": "code",
      "execution_count": 26,
      "metadata": {
        "colab": {
          "base_uri": "https://localhost:8080/",
          "height": 0
        },
        "id": "_pYtXOcEZhXX",
        "outputId": "32c5fd3a-8169-46df-abf5-0ab08b19aaea"
      },
      "outputs": [
        {
          "output_type": "stream",
          "name": "stdout",
          "text": [
            "MAsukkan nilai ujian: 70\n",
            "Anda LULUS\n"
          ]
        }
      ],
      "source": [
        "nilai = int(input(\"MAsukkan nilai ujian: \"))\n",
        "if nilai >= 60:\n",
        "  print(\"Anda LULUS\")"
      ]
    },
    {
      "cell_type": "markdown",
      "source": [
        "\n",
        "\n",
        "*   Praktikum 02 - If Else\n"
      ],
      "metadata": {
        "id": "RlPTpA8xg-Aj"
      }
    },
    {
      "cell_type": "code",
      "source": [
        "nilai = int(input(\"MAsukkan nilai ujian: \"))\n",
        "if nilai >= 60:\n",
        "  print(\"Anda LULUS\")\n",
        "else:\n",
        "  print(\"Anda Tidak LULUS\")"
      ],
      "metadata": {
        "id": "tOlT0C5shD3u",
        "colab": {
          "base_uri": "https://localhost:8080/",
          "height": 0
        },
        "outputId": "aaf4a9fa-ca76-4748-8822-6c01dd6de214"
      },
      "execution_count": 25,
      "outputs": [
        {
          "output_type": "stream",
          "name": "stdout",
          "text": [
            "MAsukkan nilai ujian: 50\n",
            "Anda Tidak LULUS\n"
          ]
        }
      ]
    },
    {
      "cell_type": "markdown",
      "source": [
        "\n",
        "\n",
        "*   Praktikum 03 - If-Elif-Else\n",
        "\n"
      ],
      "metadata": {
        "id": "_5f3jofuU8wr"
      }
    },
    {
      "cell_type": "code",
      "source": [
        "nilai = int(input(\"Masukkan nilai akhir: \"))\n",
        "\n",
        "if nilai >= 85:\n",
        "  grade = \"A\"\n",
        "elif nilai >= 70:\n",
        "  grade = \"B\"\n",
        "elif nilai >= 55:\n",
        "  grade = \"C\"\n",
        "elif nilai >= 40:\n",
        "  grade = \"D\"\n",
        "else:\n",
        "  grade = \"E\"\n",
        "\n",
        "print(f\"Nilai Anda {nilai}, maka grade Anda = {grade}\")"
      ],
      "metadata": {
        "colab": {
          "base_uri": "https://localhost:8080/",
          "height": 0
        },
        "id": "zeUqQWSnVISC",
        "outputId": "c20af39f-91ef-4b17-d6f8-2f0ed8806777"
      },
      "execution_count": 23,
      "outputs": [
        {
          "output_type": "stream",
          "name": "stdout",
          "text": [
            "Masukkan nilai akhir: 78\n",
            "Nilai Anda 78, maka grade Anda = B\n"
          ]
        }
      ]
    },
    {
      "cell_type": "markdown",
      "source": [
        "\n",
        "\n",
        "*   Praktikum 04 - Noted If\n",
        "\n"
      ],
      "metadata": {
        "id": "W5J4Ph9rWWJz"
      }
    },
    {
      "cell_type": "code",
      "source": [
        "ipk = float (input(\"Masukkan nilai IPK: \"))\n",
        "sks = int(input(\"Masukkan jumlah SKS: \"))\n",
        "\n",
        "if ipk >= 3.0:\n",
        "  if sks >= 18:\n",
        "    print (\"Anda LAYAK mendapatkan beasiswa\")\n",
        "  else:\n",
        "    print(\"IPK memenuhi, tapi SKS kurang\")\n",
        "else:\n",
        "  print(\"Anda TIDAK layak mendapat beasiswa\")"
      ],
      "metadata": {
        "colab": {
          "base_uri": "https://localhost:8080/",
          "height": 0
        },
        "id": "8jOho4JBWbnD",
        "outputId": "b29acec4-a617-415d-c899-c92634cb971e"
      },
      "execution_count": 22,
      "outputs": [
        {
          "output_type": "stream",
          "name": "stdout",
          "text": [
            "Masukkan nilai IPK: 3.2\n",
            "Masukkan jumlah SKS: 16\n",
            "IPK memenuhi, tapi SKS kurang\n"
          ]
        }
      ]
    },
    {
      "cell_type": "markdown",
      "source": [
        "\n",
        "\n",
        "*   Praktikum 05 - Match-Case\n",
        "\n"
      ],
      "metadata": {
        "id": "8B36MUEbZwIR"
      }
    },
    {
      "cell_type": "code",
      "source": [
        "menu = int(input(\"Pilih menu (1-3): \"))\n",
        "\n",
        "match menu:\n",
        "  case 1:\n",
        "    print(\"Anda memilih Nasi Goreng\")\n",
        "  case 2:\n",
        "    print(\"Anda memilih Mie Ayam\")\n",
        "  case 3:\n",
        "    print(\"Anda memilih Soto Ayam\")\n",
        "  case _:\n",
        "    print(\"Menu tidak tersedia\")"
      ],
      "metadata": {
        "colab": {
          "base_uri": "https://localhost:8080/",
          "height": 0
        },
        "id": "AkI-yQRRZ3Er",
        "outputId": "b3c59986-a82b-49ff-908f-4fd15cd868a3"
      },
      "execution_count": 19,
      "outputs": [
        {
          "output_type": "stream",
          "name": "stdout",
          "text": [
            "Pilih menu (1-3): 9\n",
            "Menu tidak tersedia\n"
          ]
        }
      ]
    },
    {
      "cell_type": "markdown",
      "source": [
        "\n",
        "\n",
        "*   Praktikum 06 - Studi Kasus: Program Kasir\n",
        "\n"
      ],
      "metadata": {
        "id": "RO6PfIWzaxxq"
      }
    },
    {
      "cell_type": "code",
      "source": [
        "barang = input(\"Masukkan nama barang: \")\n",
        "harga = float(input(\"Masukkan harga barang: \"))\n",
        "jumlah = int(input(\"Masukkan jumlah barang: \"))\n",
        "\n",
        "total = harga * jumlah\n",
        "\n",
        "if total >= 500000:\n",
        "  diskon = 0.2\n",
        "elif total >= 250000:\n",
        "  diskon = 0.1\n",
        "else:\n",
        "  diskon = 0\n",
        "\n",
        "bayar = total - (total * diskon)\n",
        "\n",
        "print(\"\\n===== Struk Belanja =====\")\n",
        "print(f\"Barang : {barang}\")\n",
        "print(f\"Harga  : {harga}\")\n",
        "print(f\"Jumlah : {jumlah}\")\n",
        "print(f\"Total  : Rp {total}\")\n",
        "print(f\"Diskon : {diskon * 100}%\")\n",
        "print(f\"Bayar  : Rp {bayar}\")"
      ],
      "metadata": {
        "colab": {
          "base_uri": "https://localhost:8080/",
          "height": 0
        },
        "id": "cDYp4Bfya7D2",
        "outputId": "25edf3da-ed8f-4e39-9451-9fe3d975e31e"
      },
      "execution_count": 18,
      "outputs": [
        {
          "output_type": "stream",
          "name": "stdout",
          "text": [
            "Masukkan nama barang: Pulpen\n",
            "Masukkan harga barang: 5000\n",
            "Masukkan jumlah barang: 10\n",
            "\n",
            "===== Struk Belanja =====\n",
            "Barang : Pulpen\n",
            "Harga  : 5000.0\n",
            "Jumlah : 10\n",
            "Total  : Rp 50000.0\n",
            "Diskon : 0%\n",
            "Bayar  : Rp 50000.0\n"
          ]
        }
      ]
    },
    {
      "cell_type": "markdown",
      "source": [
        "\n",
        "\n",
        "*  Penugasan 3 - Cek Bilangan Positif/Negatif/Nol\n",
        "\n"
      ],
      "metadata": {
        "id": "JTQmpFhSgohl"
      }
    },
    {
      "cell_type": "code",
      "source": [
        "bilangan = int(input(\"Masukkan sebuah bilangan bulat: \"))\n",
        "\n",
        "if bilangan > 0:\n",
        "    print(\"Bilangan tersebut adalah positif.\")\n",
        "elif bilangan < 0:\n",
        "    print(\"Bilangan tersebut adalah negatif.\")\n",
        "else:\n",
        "    print(\"Bilangan tersebut adalah nol.\")\n"
      ],
      "metadata": {
        "colab": {
          "base_uri": "https://localhost:8080/"
        },
        "id": "9Gc9kcaZg8-K",
        "outputId": "0a2ff640-ec08-41b0-a739-0a7ab602bb68"
      },
      "execution_count": 29,
      "outputs": [
        {
          "output_type": "stream",
          "name": "stdout",
          "text": [
            "Masukkan sebuah bilangan bulat: -1\n",
            "Bilangan tersebut adalah negatif.\n"
          ]
        }
      ]
    },
    {
      "cell_type": "markdown",
      "source": [
        "\n",
        "\n",
        "*  Penugasan 4 - Menentukan Kategori Usia\n",
        "\n"
      ],
      "metadata": {
        "id": "MMyawYe2hgKU"
      }
    },
    {
      "cell_type": "code",
      "source": [
        "umur = int(input(\"Masukkan umur Anda: \"))\n",
        "\n",
        "if umur < 5:\n",
        "    print(\"Kategori: Balita\")\n",
        "elif umur <= 11:\n",
        "    print(\"Kategori: Anak-anak\")\n",
        "elif umur <= 17:\n",
        "    print(\"Kategori: Remaja\")\n",
        "elif umur <= 59:\n",
        "    print(\"Kategori: Dewasa\")\n",
        "else:\n",
        "    print(\"Kategori: Lansia\")\n"
      ],
      "metadata": {
        "colab": {
          "base_uri": "https://localhost:8080/"
        },
        "id": "4y3vm5nJhmqY",
        "outputId": "dbaf282a-4368-4236-e111-f9a1c48539ce"
      },
      "execution_count": 30,
      "outputs": [
        {
          "output_type": "stream",
          "name": "stdout",
          "text": [
            "Masukkan umur Anda: 19\n",
            "Kategori: Dewasa\n"
          ]
        }
      ]
    },
    {
      "cell_type": "markdown",
      "source": [
        "\n",
        "\n",
        "*  Penugasan 5 - Hitung Tarif Parkir\n",
        "\n"
      ],
      "metadata": {
        "id": "95nZ-VLFh-O0"
      }
    },
    {
      "cell_type": "code",
      "source": [
        "jam = int(input(\"Masukkan lama parkir (jam): \"))\n",
        "\n",
        "if jam <= 2:\n",
        "    tarif = 5000\n",
        "else:\n",
        "    tarif = 5000 + (jam - 2) * 2000\n",
        "\n",
        "if tarif > 20000:\n",
        "    tarif = 20000\n",
        "\n",
        "print(\"Tarif parkir = Rp\", tarif)\n"
      ],
      "metadata": {
        "colab": {
          "base_uri": "https://localhost:8080/"
        },
        "id": "I3gZXglniEM_",
        "outputId": "3ceacba6-d938-4908-8e73-236829729550"
      },
      "execution_count": 31,
      "outputs": [
        {
          "output_type": "stream",
          "name": "stdout",
          "text": [
            "Masukkan lama parkir (jam): 3\n",
            "Tarif parkir = Rp 7000\n"
          ]
        }
      ]
    },
    {
      "cell_type": "markdown",
      "source": [
        "\n",
        "\n",
        "*   Penugasan 6 - Cek Login Sederhana\n",
        "\n"
      ],
      "metadata": {
        "id": "GiTEQgJ7i4A4"
      }
    },
    {
      "cell_type": "code",
      "source": [
        "username = input(\"Masukkan username: \")\n",
        "password = input(\"Masukkan password: \")\n",
        "\n",
        "if username == \"admin\" and password == \"1234\":\n",
        "    print(\"Login berhasil\")\n",
        "else:\n",
        "    print(\"Login gagal\")\n"
      ],
      "metadata": {
        "colab": {
          "base_uri": "https://localhost:8080/"
        },
        "id": "cd2OXjlHi81Y",
        "outputId": "52a9b4f1-9123-40bd-a0cc-b337a6fc24a6"
      },
      "execution_count": 32,
      "outputs": [
        {
          "output_type": "stream",
          "name": "stdout",
          "text": [
            "Masukkan username: admin\n",
            "Masukkan password: 1234\n",
            "Login berhasil\n"
          ]
        }
      ]
    },
    {
      "cell_type": "markdown",
      "source": [
        "\n",
        "\n",
        "*   Penugasan 7 - One-Liner (Cek Genap/Ganjil)\n",
        "\n"
      ],
      "metadata": {
        "id": "5LEi0B2Qjk9E"
      }
    },
    {
      "cell_type": "code",
      "source": [
        "bilangan = int(input(\"Masukkan sebuah bilangan: \"))\n",
        "print(\"Genap\" if bilangan % 2 == 0 else \"Ganjil\")\n"
      ],
      "metadata": {
        "colab": {
          "base_uri": "https://localhost:8080/"
        },
        "id": "1LYYqEyUjzxQ",
        "outputId": "9c964f68-fd98-4fe3-d1f5-9bca76b6d6ef"
      },
      "execution_count": 33,
      "outputs": [
        {
          "output_type": "stream",
          "name": "stdout",
          "text": [
            "Masukkan sebuah bilangan: 56789\n",
            "Ganjil\n"
          ]
        }
      ]
    },
    {
      "cell_type": "markdown",
      "source": [
        "\n",
        "\n",
        "*   Penugasan 8 - Menu Restoran dengan Match-Case\n",
        "\n"
      ],
      "metadata": {
        "id": "r6hMksyBkGpP"
      }
    },
    {
      "cell_type": "code",
      "source": [
        "print(\"Menu Makanan:\")\n",
        "print(\"1 = Nasi Goreng\")\n",
        "print(\"2 = Mie Ayam\")\n",
        "print(\"3 = Soto Ayam\")\n",
        "\n",
        "pilihan = int(input(\"Masukkan pilihan Anda (1-3): \"))\n",
        "\n",
        "match pilihan:\n",
        "    case 1:\n",
        "        print(\"Anda memilih Nasi Goreng\")\n",
        "    case 2:\n",
        "        print(\"Anda memilih Mie Ayam\")\n",
        "    case 3:\n",
        "        print(\"Anda memilih Soto Ayam\")\n",
        "    case _:\n",
        "        print(\"Menu tidak tersedia\")\n"
      ],
      "metadata": {
        "colab": {
          "base_uri": "https://localhost:8080/"
        },
        "id": "-cy2Le5WkSaB",
        "outputId": "c35b4f15-4e40-4e12-d345-e4122fe1e8f7"
      },
      "execution_count": 34,
      "outputs": [
        {
          "output_type": "stream",
          "name": "stdout",
          "text": [
            "Menu Makanan:\n",
            "1 = Nasi Goreng\n",
            "2 = Mie Ayam\n",
            "3 = Soto Ayam\n",
            "Masukkan pilihan Anda (1-3): 2\n",
            "Anda memilih Mie Ayam\n"
          ]
        }
      ]
    },
    {
      "cell_type": "markdown",
      "source": [
        "\n",
        "\n",
        "*  Penugasan 9 - Studi Kasus Nyata-Program Penentuan Diskon\n"
      ],
      "metadata": {
        "id": "2Yn0HAh9krZX"
      }
    },
    {
      "cell_type": "code",
      "source": [
        "nama_barang = input(\"Masukkan nama barang: \")\n",
        "jumlah = int(input(\"Masukkan jumlah barang: \"))\n",
        "harga = int(input(\"Masukkan harga per barang: \"))\n",
        "\n",
        "total = jumlah * harga\n",
        "\n",
        "if total >= 500000:\n",
        "    diskon = 0.2 * total\n",
        "elif total >= 250000:\n",
        "    diskon = 0.1 * total\n",
        "else:\n",
        "    diskon = 0\n",
        "\n",
        "total_bayar = total - diskon\n",
        "\n",
        "print(\"\\n===== STRUK BELANJA =====\")\n",
        "print(\"Nama Barang  :\", nama_barang)\n",
        "print(\"Jumlah       :\", jumlah)\n",
        "print(\"Harga Satuan : Rp\", harga)\n",
        "print(\"Total        : Rp\", total)\n",
        "print(\"Diskon       : Rp\", int(diskon))\n",
        "print(\"Jumlah Bayar : Rp\", int(total_bayar))\n",
        "print(\"==========================\")\n"
      ],
      "metadata": {
        "colab": {
          "base_uri": "https://localhost:8080/"
        },
        "id": "lMv9O2Ylk90m",
        "outputId": "3d8de00c-d335-48b2-a7aa-7b0c591474fa"
      },
      "execution_count": 35,
      "outputs": [
        {
          "output_type": "stream",
          "name": "stdout",
          "text": [
            "Masukkan nama barang: kipas\n",
            "Masukkan jumlah barang: 3\n",
            "Masukkan harga per barang: 120000\n",
            "\n",
            "===== STRUK BELANJA =====\n",
            "Nama Barang  : kipas\n",
            "Jumlah       : 3\n",
            "Harga Satuan : Rp 120000\n",
            "Total        : Rp 360000\n",
            "Diskon       : Rp 36000\n",
            "Jumlah Bayar : Rp 324000\n",
            "==========================\n"
          ]
        }
      ]
    }
  ]
}